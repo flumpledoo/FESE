{
 "cells": [
  {
   "cell_type": "markdown",
   "metadata": {},
   "source": [
    "Fire Emblem 4 Character Predictor\n",
    "============================"
   ]
  },
  {
   "cell_type": "code",
   "execution_count": 10,
   "metadata": {
    "inputHidden": false,
    "jupyter": {
     "source_hidden": true
    },
    "outputHidden": false
   },
   "outputs": [],
   "source": [
    "from __future__ import print_function\n",
    "%matplotlib inline\n",
    "import numpy as np\n",
    "from scipy.stats import binom, norm\n",
    "from matplotlib import pyplot as plt\n",
    "import pandas as pd\n",
    "from ipywidgets import interact, interactive, fixed, interact_manual\n",
    "import ipywidgets as widgets\n",
    "# from ipywidgets.embed import embed_minimal_html\n",
    "# from IPython.display import Javascript"
   ]
  },
  {
   "cell_type": "code",
   "execution_count": 11,
   "metadata": {
    "inputHidden": false,
    "jupyter": {
     "source_hidden": true
    },
    "outputHidden": false
   },
   "outputs": [],
   "source": [
    "test = pd.ExcelFile('FE4.xlsx')"
   ]
  },
  {
   "cell_type": "code",
   "execution_count": 15,
   "metadata": {
    "inputHidden": false,
    "jupyter": {
     "source_hidden": true
    },
    "outputHidden": false
   },
   "outputs": [
    {
     "data": {
      "application/vnd.jupyter.widget-view+json": {
       "model_id": "f71bcf4acefc41ac92b2439729f55ec7",
       "version_major": 2,
       "version_minor": 0
      },
      "text/plain": [
       "interactive(children=(Dropdown(description='Name', options=('Alec', 'Arden', 'Ayra', 'Azel', 'Beowulf', 'Brigi…"
      ]
     },
     "metadata": {},
     "output_type": "display_data"
    }
   ],
   "source": [
    "# function for name dropdown\n",
    "def sel(Name):\n",
    "    df = pd.read_excel(test, Name)\n",
    "\n",
    "    ln = len(df)-1\n",
    "\n",
    "    # starting level\n",
    "    slv = df.iloc[ln][3]\n",
    "\n",
    "    # build dict of growths\n",
    "    growths = {df.iloc[i][0] : df.iloc[i][3] for i in range(0, int(ln/2))}\n",
    "\n",
    "    # build dict of bases\n",
    "    bases = {df.iloc[i][0] : df.iloc[i][3] for i in range(int(ln/2), ln)}\n",
    "    \n",
    "    # select stat\n",
    "    def f(Stat):\n",
    "        # toggle level\n",
    "        def g(Level=slv+1):\n",
    "            # distribution stuff\n",
    "\n",
    "            n = Level-slv\n",
    "            p = list(growths.values())[Stat]\n",
    "\n",
    "            bs = list(bases.values())[Stat]\n",
    "\n",
    "            if p > 1:\n",
    "                p = p-1\n",
    "                bs+=n\n",
    "\n",
    "            # binomial dist of growth for given stat\n",
    "            bn = binom(n, p)\n",
    "\n",
    "            x = np.arange(binom.ppf(0.01, n, p), binom.ppf(0.99, n, p))\n",
    "\n",
    "            fig = plt.figure()\n",
    "            # plt.scatter(x, binom.pmf(x, n, p))\n",
    "            plt.bar(x+bs, binom.pmf(x, n, p))\n",
    "            plt.xlabel('Stat Value')\n",
    "            plt.ylabel('Probability')\n",
    "            plt.title(f' {Name}: Expected {list(bases.keys())[Stat]} Value at Level {int(n+slv)}')\n",
    "\n",
    "            # y = np.linspace(norm.ppf(0.01), norm.ppf(0.99), 100)\n",
    "            y = np.linspace(binom.ppf(0.01, n, p), binom.ppf(0.99, n, p), 100)\n",
    "            # y = (x - binom.mean(n, p))/binom.std(n, p)\n",
    "\n",
    "            # plt.hold(True)\n",
    "            plt.plot(y+bs, norm.pdf(y, loc=binom.mean(n, p), scale=binom.std(n, p)), '-r')\n",
    "            plt.show()\n",
    "\n",
    "            print(f'At Level {int(n+slv)}, Expected {list(bases.keys())[Stat]} = {int(np.floor(binom.mean(n, p))+bs)}')\n",
    "            print(f'With Standard Deviation = {(int(np.floor(binom.std(n, p))))}')\n",
    "\n",
    "            print(f'{Name}: Average Stats at Level {int(n+slv)}:')\n",
    "            for i, v in enumerate(list(bases.keys())):\n",
    "                p = list(growths.values())[i]\n",
    "                bs = list(bases.values())[i]\n",
    "                \n",
    "                if p > 1:\n",
    "                    p = p-1\n",
    "                    bs+=n\n",
    "\n",
    "                print(f'Average {v} = {int(np.floor(binom.mean(n, p)+bs))}')\n",
    "\n",
    "            return Level\n",
    "\n",
    "        lv = interactive(g, Level=(int(slv+1), 30, 1), continuous_update=True)\n",
    "        display(lv)\n",
    "        return Stat\n",
    "\n",
    "    s = interactive(f, Stat=[('HP', 0), ('STR', 1), ('MAG', 2), ('SKL', 3),\n",
    "                            ('SPD', 4), ('DEF', 5), ('RES', 6), ('LCK', 7)], continuous_update=True)\n",
    "    display(s)\n",
    "    \n",
    "    return Name\n",
    "\n",
    "# name dropdown\n",
    "t = interactive(sel, Name=test.sheet_names, continuous_update=True)\n",
    "display(t) # show"
   ]
  }
 ],
 "metadata": {
  "kernelspec": {
   "display_name": "Python 3",
   "language": "python",
   "name": "python3"
  },
  "language_info": {
   "codemirror_mode": {
    "name": "ipython",
    "version": 3
   },
   "file_extension": ".py",
   "mimetype": "text/x-python",
   "name": "python",
   "nbconvert_exporter": "python",
   "pygments_lexer": "ipython3",
   "version": "3.7.3"
  },
  "widgets": {
   "application/vnd.jupyter.widget-state+json": {
    "state": {
     "00451bef35504f5d96359715ee8bc8a9": {
      "model_module": "@jupyter-widgets/base",
      "model_module_version": "1.2.0",
      "model_name": "LayoutModel",
      "state": {}
     },
     "026b62b5d60a432889ed476e51bb838a": {
      "model_module": "@jupyter-widgets/base",
      "model_module_version": "1.2.0",
      "model_name": "LayoutModel",
      "state": {}
     },
     "035208e56bc342c8a2e9a378679c4b17": {
      "model_module": "@jupyter-widgets/base",
      "model_module_version": "1.2.0",
      "model_name": "LayoutModel",
      "state": {}
     },
     "03b335cb5ef14bc8ae988d33f4e3d2cf": {
      "model_module": "@jupyter-widgets/output",
      "model_module_version": "1.0.0",
      "model_name": "OutputModel",
      "state": {
       "layout": "IPY_MODEL_3b8ee987e800420fa98aaeb649619909"
      }
     },
     "0463f57847f742d4a1b70353edb962c8": {
      "model_module": "@jupyter-widgets/controls",
      "model_module_version": "1.5.0",
      "model_name": "IntSliderModel",
      "state": {
       "description": "Level",
       "layout": "IPY_MODEL_199d891fc0c145a6ba7b042a57e80695",
       "max": 30,
       "min": 13,
       "style": "IPY_MODEL_7364262fec174fa8aed345df7119a61f",
       "value": 30
      }
     },
     "06caee7ee6814a309e19e6d60aa1e9d9": {
      "model_module": "@jupyter-widgets/controls",
      "model_module_version": "1.5.0",
      "model_name": "SliderStyleModel",
      "state": {
       "description_width": ""
      }
     },
     "08145e512aa64e26bef03e0c2ad9525a": {
      "model_module": "@jupyter-widgets/base",
      "model_module_version": "1.2.0",
      "model_name": "LayoutModel",
      "state": {}
     },
     "09e2f30086764648ab4cacb18a2f0d0a": {
      "model_module": "@jupyter-widgets/base",
      "model_module_version": "1.2.0",
      "model_name": "LayoutModel",
      "state": {}
     },
     "0b9817751d7a48b681f80bbaa8aca6e7": {
      "model_module": "@jupyter-widgets/output",
      "model_module_version": "1.0.0",
      "model_name": "OutputModel",
      "state": {
       "layout": "IPY_MODEL_40c970dcc19c4002bfc2ef71ccf3d79c",
       "outputs": [
        {
         "data": {
          "application/vnd.jupyter.widget-view+json": {
           "model_id": "3237c1ba48204319a040674f013fa2fd",
           "version_major": 2,
           "version_minor": 0
          },
          "text/plain": "interactive(children=(Dropdown(description='Stat', options=(('HP', 0), ('STR', 1), ('MAG', 2), ('SKL', 3), ('S…"
         },
         "metadata": {},
         "output_type": "display_data"
        }
       ]
      }
     },
     "0e6617c9d63d4f8a97c04da125e27e06": {
      "model_module": "@jupyter-widgets/base",
      "model_module_version": "1.2.0",
      "model_name": "LayoutModel",
      "state": {}
     },
     "0f2a9f02b2b94218b05c35efebe706f0": {
      "model_module": "@jupyter-widgets/output",
      "model_module_version": "1.0.0",
      "model_name": "OutputModel",
      "state": {
       "layout": "IPY_MODEL_12d15b0fef5945c885d883f80f8f4537",
       "outputs": [
        {
         "data": {
          "image/png": "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\n",
          "text/plain": "<Figure size 600x400 with 1 Axes>"
         },
         "metadata": {
          "needs_background": "light"
         },
         "output_type": "display_data"
        },
        {
         "name": "stdout",
         "output_type": "stream",
         "text": "At Level 20, Expected HP = 36\nWith Standard Deviation = 1\nAyra: Average Stats at Level 20:\nAverage HP = 36\nAverage STR = 2\nAverage MAG = 23\nAverage SKL = 16\nAverage SPD = 14\nAverage DEF = 10\nAverage RES = 16\nAverage LCK = 14\n"
        }
       ]
      }
     },
     "1101c87286da475d8c0ebc067bbbcabe": {
      "model_module": "@jupyter-widgets/base",
      "model_module_version": "1.2.0",
      "model_name": "LayoutModel",
      "state": {}
     },
     "11a0dbea5a4b4424833851dd94f8489c": {
      "model_module": "@jupyter-widgets/controls",
      "model_module_version": "1.5.0",
      "model_name": "IntSliderModel",
      "state": {
       "description": "Level",
       "layout": "IPY_MODEL_de100ed0fe2d45ac91c03971a8b3ca26",
       "max": 30,
       "min": 5,
       "style": "IPY_MODEL_5b2bb3f594a74a3e8d311acbeab813e3",
       "value": 20
      }
     },
     "11c128adb43e4bd7ba57e263508d6404": {
      "model_module": "@jupyter-widgets/base",
      "model_module_version": "1.2.0",
      "model_name": "LayoutModel",
      "state": {}
     },
     "12d15b0fef5945c885d883f80f8f4537": {
      "model_module": "@jupyter-widgets/base",
      "model_module_version": "1.2.0",
      "model_name": "LayoutModel",
      "state": {}
     },
     "187199ecf2c64b16b43af05824c09c94": {
      "model_module": "@jupyter-widgets/controls",
      "model_module_version": "1.5.0",
      "model_name": "VBoxModel",
      "state": {
       "_dom_classes": [
        "widget-interact"
       ],
       "children": [
        "IPY_MODEL_1932569580d8404da2984dca24b92078",
        "IPY_MODEL_0f2a9f02b2b94218b05c35efebe706f0"
       ],
       "layout": "IPY_MODEL_bd2b7377c0c54a9184e4dbdd66e3b1e0"
      }
     },
     "18b636fb6a9e4b9e94cf7cbdc9f2b381": {
      "model_module": "@jupyter-widgets/base",
      "model_module_version": "1.2.0",
      "model_name": "LayoutModel",
      "state": {}
     },
     "18bcd39805b449d481198ac54cc6f47f": {
      "model_module": "@jupyter-widgets/base",
      "model_module_version": "1.2.0",
      "model_name": "LayoutModel",
      "state": {}
     },
     "1932569580d8404da2984dca24b92078": {
      "model_module": "@jupyter-widgets/controls",
      "model_module_version": "1.5.0",
      "model_name": "IntSliderModel",
      "state": {
       "description": "Level",
       "layout": "IPY_MODEL_840f23a5ca8f44aba684cff8d420a58e",
       "max": 30,
       "min": 5,
       "style": "IPY_MODEL_50a6c764e4004563819bbabdd8b0d5f4",
       "value": 20
      }
     },
     "199d891fc0c145a6ba7b042a57e80695": {
      "model_module": "@jupyter-widgets/base",
      "model_module_version": "1.2.0",
      "model_name": "LayoutModel",
      "state": {}
     },
     "1d95e7c55c25428ea6e1d32974840942": {
      "model_module": "@jupyter-widgets/controls",
      "model_module_version": "1.5.0",
      "model_name": "SliderStyleModel",
      "state": {
       "description_width": ""
      }
     },
     "1e0d9f2a9c6446078a03dd3139b677c3": {
      "model_module": "@jupyter-widgets/controls",
      "model_module_version": "1.5.0",
      "model_name": "VBoxModel",
      "state": {
       "_dom_classes": [
        "widget-interact"
       ],
       "children": [
        "IPY_MODEL_af371aacc33e415d931da5789ae63660",
        "IPY_MODEL_42a1d6a32f4843228e06680ff2071d62"
       ],
       "layout": "IPY_MODEL_08145e512aa64e26bef03e0c2ad9525a"
      }
     },
     "29144a4d92c042559f32da79dbe8e6d7": {
      "model_module": "@jupyter-widgets/controls",
      "model_module_version": "1.5.0",
      "model_name": "IntSliderModel",
      "state": {
       "description": "Level",
       "layout": "IPY_MODEL_ac21b5930c5e4acab0eff09ab7f2d562",
       "max": 30,
       "min": 2,
       "style": "IPY_MODEL_1d95e7c55c25428ea6e1d32974840942",
       "value": 20
      }
     },
     "29695541cd79470b90106cab31ae43bb": {
      "model_module": "@jupyter-widgets/base",
      "model_module_version": "1.2.0",
      "model_name": "LayoutModel",
      "state": {}
     },
     "298f2756cf584a4294c559e0c1a49aa6": {
      "model_module": "@jupyter-widgets/base",
      "model_module_version": "1.2.0",
      "model_name": "LayoutModel",
      "state": {}
     },
     "2e1a56bd5301410aa01e6ccf4db004d5": {
      "model_module": "@jupyter-widgets/controls",
      "model_module_version": "1.5.0",
      "model_name": "VBoxModel",
      "state": {
       "_dom_classes": [
        "widget-interact"
       ],
       "children": [
        "IPY_MODEL_11a0dbea5a4b4424833851dd94f8489c",
        "IPY_MODEL_fe1131160d1e40779c1273722ae61d01"
       ],
       "layout": "IPY_MODEL_8a3e1bd18eb14fa295fac97ebd79ff3e"
      }
     },
     "2f2204b2b94b4d01994dcb3cebb55a16": {
      "model_module": "@jupyter-widgets/base",
      "model_module_version": "1.2.0",
      "model_name": "LayoutModel",
      "state": {}
     },
     "2f4315b5235842498711abc098c898b0": {
      "model_module": "@jupyter-widgets/base",
      "model_module_version": "1.2.0",
      "model_name": "LayoutModel",
      "state": {}
     },
     "2fd29fdc6fb84841bdfd2fd8126b711a": {
      "model_module": "@jupyter-widgets/controls",
      "model_module_version": "1.5.0",
      "model_name": "DescriptionStyleModel",
      "state": {
       "description_width": ""
      }
     },
     "3118fe0fef2645a1a7fd32e521fae740": {
      "model_module": "@jupyter-widgets/controls",
      "model_module_version": "1.5.0",
      "model_name": "VBoxModel",
      "state": {
       "_dom_classes": [
        "widget-interact"
       ],
       "children": [
        "IPY_MODEL_9897859bea2e46d7952c42a17ebfa470",
        "IPY_MODEL_bd214aef5b174c94b57def8a8d934436"
       ],
       "layout": "IPY_MODEL_5265331b739b4a2dadf23be3cd8e11fd"
      }
     },
     "3195272d454544ae8de3f60fd52e71dd": {
      "model_module": "@jupyter-widgets/controls",
      "model_module_version": "1.5.0",
      "model_name": "DropdownModel",
      "state": {
       "_options_labels": [
        "HP",
        "STR",
        "MAG",
        "SKL",
        "SPD",
        "DEF",
        "RES",
        "LCK"
       ],
       "description": "Stat",
       "index": 0,
       "layout": "IPY_MODEL_f75e7a45454f4b079c4686ca762d5549",
       "style": "IPY_MODEL_5ef6ac0c10734b0286baa4631a55a646"
      }
     },
     "31d94de0feb843f391befafdd73b6fbb": {
      "model_module": "@jupyter-widgets/output",
      "model_module_version": "1.0.0",
      "model_name": "OutputModel",
      "state": {
       "layout": "IPY_MODEL_18b636fb6a9e4b9e94cf7cbdc9f2b381",
       "outputs": [
        {
         "data": {
          "application/vnd.jupyter.widget-view+json": {
           "model_id": "bdee7b00c73f4f54a319952a63deb7ff",
           "version_major": 2,
           "version_minor": 0
          },
          "text/plain": "interactive(children=(IntSlider(value=3, description='Level', max=30, min=3), Output()), _dom_classes=('widget…"
         },
         "metadata": {},
         "output_type": "display_data"
        }
       ]
      }
     },
     "320e990b75034fd39981bc8bbb785bda": {
      "model_module": "@jupyter-widgets/controls",
      "model_module_version": "1.5.0",
      "model_name": "DescriptionStyleModel",
      "state": {
       "description_width": ""
      }
     },
     "3237c1ba48204319a040674f013fa2fd": {
      "model_module": "@jupyter-widgets/controls",
      "model_module_version": "1.5.0",
      "model_name": "VBoxModel",
      "state": {
       "_dom_classes": [
        "widget-interact"
       ],
       "children": [
        "IPY_MODEL_d65dee5260c24b958d6d16db1ac88d25",
        "IPY_MODEL_03b335cb5ef14bc8ae988d33f4e3d2cf"
       ],
       "layout": "IPY_MODEL_3ae970f8eb55445887cc9cb745e9c44f"
      }
     },
     "325507a23ea4418d8338170c65b6f787": {
      "model_module": "@jupyter-widgets/controls",
      "model_module_version": "1.5.0",
      "model_name": "DropdownModel",
      "state": {
       "_options_labels": [
        "Alec",
        "Arden",
        "Ayra",
        "Azel",
        "Beowulf",
        "Brigid",
        "Holyn",
        "Claude",
        "Dew",
        "Aideen",
        "Ferry",
        "Jamke",
        "Lachesis",
        "Ethlyn",
        "Finn",
        "Levin",
        "Lex",
        "Midir",
        "Noish",
        "Quan",
        "Sigurd",
        "Silvia",
        "Tiltyu",
        "Dierdre"
       ],
       "description": "Name",
       "index": 0,
       "layout": "IPY_MODEL_d4cb21ab0a874d368486b777435bda51",
       "style": "IPY_MODEL_320e990b75034fd39981bc8bbb785bda"
      }
     },
     "34cf474f6ebf413cb91f4096903647c1": {
      "model_module": "@jupyter-widgets/controls",
      "model_module_version": "1.5.0",
      "model_name": "IntSliderModel",
      "state": {
       "description": "Level",
       "layout": "IPY_MODEL_d6a1c3f55aba4b558defb9bea42162e0",
       "max": 30,
       "min": 13,
       "style": "IPY_MODEL_5d1f3c01ac934955823105fbdb0dec59",
       "value": 13
      }
     },
     "3a53995915a643a29ad374e3979efb52": {
      "model_module": "@jupyter-widgets/output",
      "model_module_version": "1.0.0",
      "model_name": "OutputModel",
      "state": {
       "layout": "IPY_MODEL_4c3dac71a09a4ae19f969ba9d2b10c47",
       "outputs": [
        {
         "data": {
          "image/png": "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\n",
          "text/plain": "<Figure size 600x400 with 1 Axes>"
         },
         "metadata": {
          "needs_background": "light"
         },
         "output_type": "display_data"
        },
        {
         "name": "stdout",
         "output_type": "stream",
         "text": "At Level 30, Expected HP = 42\nWith Standard Deviation = 2\nAlec: Average Stats at Level 30:\nAverage HP = 42\nAverage STR = 7\nAverage MAG = 19\nAverage SKL = 19\nAverage SPD = 21\nAverage DEF = 9\nAverage RES = 29\nAverage LCK = 12\n"
        }
       ]
      }
     },
     "3ae970f8eb55445887cc9cb745e9c44f": {
      "model_module": "@jupyter-widgets/base",
      "model_module_version": "1.2.0",
      "model_name": "LayoutModel",
      "state": {}
     },
     "3b8ee987e800420fa98aaeb649619909": {
      "model_module": "@jupyter-widgets/base",
      "model_module_version": "1.2.0",
      "model_name": "LayoutModel",
      "state": {}
     },
     "3f519af84bc4456cab18c16e4605d337": {
      "model_module": "@jupyter-widgets/base",
      "model_module_version": "1.2.0",
      "model_name": "LayoutModel",
      "state": {}
     },
     "3f9975c346f34be7937d06db16ab3a52": {
      "model_module": "@jupyter-widgets/base",
      "model_module_version": "1.2.0",
      "model_name": "LayoutModel",
      "state": {}
     },
     "406cafb3810f40fb896ae2238557f91a": {
      "model_module": "@jupyter-widgets/controls",
      "model_module_version": "1.5.0",
      "model_name": "SliderStyleModel",
      "state": {
       "description_width": ""
      }
     },
     "40c970dcc19c4002bfc2ef71ccf3d79c": {
      "model_module": "@jupyter-widgets/base",
      "model_module_version": "1.2.0",
      "model_name": "LayoutModel",
      "state": {}
     },
     "41377fe9862f4c9ba66a1c032ce14162": {
      "model_module": "@jupyter-widgets/controls",
      "model_module_version": "1.5.0",
      "model_name": "VBoxModel",
      "state": {
       "_dom_classes": [
        "widget-interact"
       ],
       "children": [
        "IPY_MODEL_7409ede72777470896cb1e7b2b3cabb1",
        "IPY_MODEL_9a2fcad46c944014ba74326e46f73ad4"
       ],
       "layout": "IPY_MODEL_1101c87286da475d8c0ebc067bbbcabe"
      }
     },
     "42a1d6a32f4843228e06680ff2071d62": {
      "model_module": "@jupyter-widgets/output",
      "model_module_version": "1.0.0",
      "model_name": "OutputModel",
      "state": {
       "layout": "IPY_MODEL_dc7cffa804f3475ba477db04fa913c5e",
       "outputs": [
        {
         "data": {
          "image/png": "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\n",
          "text/plain": "<Figure size 600x400 with 1 Axes>"
         },
         "metadata": {
          "needs_background": "light"
         },
         "output_type": "display_data"
        },
        {
         "name": "stdout",
         "output_type": "stream",
         "text": "At Level 2, Expected HP = 28\nWith Standard Deviation = 0\nDew: Average Stats at Level 2:\nAverage HP = 28\nAverage STR = 13\nAverage MAG = 1\nAverage SKL = 12\nAverage SPD = 10\nAverage DEF = 16\nAverage RES = 1\nAverage LCK = 4\n"
        }
       ]
      }
     },
     "483fa443c33a4cb78558b12b491c98e6": {
      "model_module": "@jupyter-widgets/controls",
      "model_module_version": "1.5.0",
      "model_name": "IntSliderModel",
      "state": {
       "description": "Level",
       "layout": "IPY_MODEL_53150fa4b0c94b5ca3dd7d7d4a74a9d9",
       "max": 30,
       "min": 2,
       "style": "IPY_MODEL_406cafb3810f40fb896ae2238557f91a",
       "value": 20
      }
     },
     "48bf1f945f8c43eeab9bb98c53ac4a83": {
      "model_module": "@jupyter-widgets/base",
      "model_module_version": "1.2.0",
      "model_name": "LayoutModel",
      "state": {}
     },
     "4c3dac71a09a4ae19f969ba9d2b10c47": {
      "model_module": "@jupyter-widgets/base",
      "model_module_version": "1.2.0",
      "model_name": "LayoutModel",
      "state": {}
     },
     "4e73c29315684c32a1992ae5fb77567b": {
      "model_module": "@jupyter-widgets/base",
      "model_module_version": "1.2.0",
      "model_name": "LayoutModel",
      "state": {}
     },
     "4ec1b88717f944ccac01899196d6ad5c": {
      "model_module": "@jupyter-widgets/controls",
      "model_module_version": "1.5.0",
      "model_name": "VBoxModel",
      "state": {
       "_dom_classes": [
        "widget-interact"
       ],
       "children": [
        "IPY_MODEL_e0b7977e5aab47868d46c6a6bb7b8629",
        "IPY_MODEL_ecb783ddd4784a2b9f82c703d89297f3"
       ],
       "layout": "IPY_MODEL_e30f1c2bbf57467a88c0dad4568d2727"
      }
     },
     "4f89b0d328404efca272df7e91175753": {
      "model_module": "@jupyter-widgets/output",
      "model_module_version": "1.0.0",
      "model_name": "OutputModel",
      "state": {
       "layout": "IPY_MODEL_ecefd66d8b7645c68f51dd097ff7760c",
       "outputs": [
        {
         "data": {
          "image/png": "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\n",
          "text/plain": "<Figure size 600x400 with 1 Axes>"
         },
         "metadata": {
          "needs_background": "light"
         },
         "output_type": "display_data"
        },
        {
         "name": "stdout",
         "output_type": "stream",
         "text": "At Level 2, Expected HP = 30\nWith Standard Deviation = 0\nAzel: Average Stats at Level 2:\nAverage HP = 30\nAverage STR = 3\nAverage MAG = 0\nAverage SKL = 8\nAverage SPD = 8\nAverage DEF = 3\nAverage RES = 0\nAverage LCK = 4\n"
        }
       ]
      }
     },
     "50a6c764e4004563819bbabdd8b0d5f4": {
      "model_module": "@jupyter-widgets/controls",
      "model_module_version": "1.5.0",
      "model_name": "SliderStyleModel",
      "state": {
       "description_width": ""
      }
     },
     "5265331b739b4a2dadf23be3cd8e11fd": {
      "model_module": "@jupyter-widgets/base",
      "model_module_version": "1.2.0",
      "model_name": "LayoutModel",
      "state": {}
     },
     "53150fa4b0c94b5ca3dd7d7d4a74a9d9": {
      "model_module": "@jupyter-widgets/base",
      "model_module_version": "1.2.0",
      "model_name": "LayoutModel",
      "state": {}
     },
     "544fdac52f3146fdbcf24522450c2074": {
      "model_module": "@jupyter-widgets/controls",
      "model_module_version": "1.5.0",
      "model_name": "IntSliderModel",
      "state": {
       "description": "Level",
       "layout": "IPY_MODEL_f6fa366fbe0540b8877c9187f9e4c94e",
       "max": 30,
       "min": 3,
       "style": "IPY_MODEL_8d674e32785a48f99631a5b5187e3959",
       "value": 23
      }
     },
     "55ad29948e4d40e7852d3c992b6f50bd": {
      "model_module": "@jupyter-widgets/controls",
      "model_module_version": "1.5.0",
      "model_name": "VBoxModel",
      "state": {
       "_dom_classes": [
        "widget-interact"
       ],
       "children": [
        "IPY_MODEL_a420dad2520f4ba78c32e2f9d5ba9767",
        "IPY_MODEL_e29b2f0623b04f8a93b9b1966df12d25"
       ],
       "layout": "IPY_MODEL_298f2756cf584a4294c559e0c1a49aa6"
      }
     },
     "582c47d1c23b453da11bc4d350a7da22": {
      "model_module": "@jupyter-widgets/base",
      "model_module_version": "1.2.0",
      "model_name": "LayoutModel",
      "state": {}
     },
     "5863cedc3a8c431e9c3440e6cc817001": {
      "model_module": "@jupyter-widgets/output",
      "model_module_version": "1.0.0",
      "model_name": "OutputModel",
      "state": {
       "layout": "IPY_MODEL_69670bd4df1d44e5b0f6c600ed64f7b1",
       "outputs": [
        {
         "data": {
          "image/png": "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\n",
          "text/plain": "<Figure size 600x400 with 1 Axes>"
         },
         "metadata": {
          "needs_background": "light"
         },
         "output_type": "display_data"
        },
        {
         "name": "stdout",
         "output_type": "stream",
         "text": "At Level 13, Expected HP = 40\nWith Standard Deviation = 0\nHolyn: Average Stats at Level 13:\nAverage HP = 40\nAverage STR = 10\nAverage MAG = 3\nAverage SKL = 11\nAverage SPD = 8\nAverage DEF = 6\nAverage RES = 3\nAverage LCK = 3\n"
        }
       ]
      }
     },
     "5a070375c6ac4f0480ad1253f671e409": {
      "model_module": "@jupyter-widgets/base",
      "model_module_version": "1.2.0",
      "model_name": "LayoutModel",
      "state": {}
     },
     "5b2bb3f594a74a3e8d311acbeab813e3": {
      "model_module": "@jupyter-widgets/controls",
      "model_module_version": "1.5.0",
      "model_name": "SliderStyleModel",
      "state": {
       "description_width": ""
      }
     },
     "5d1f3c01ac934955823105fbdb0dec59": {
      "model_module": "@jupyter-widgets/controls",
      "model_module_version": "1.5.0",
      "model_name": "SliderStyleModel",
      "state": {
       "description_width": ""
      }
     },
     "5ef6ac0c10734b0286baa4631a55a646": {
      "model_module": "@jupyter-widgets/controls",
      "model_module_version": "1.5.0",
      "model_name": "DescriptionStyleModel",
      "state": {
       "description_width": ""
      }
     },
     "5f547139ef1c442289711c0fca253ff6": {
      "model_module": "@jupyter-widgets/controls",
      "model_module_version": "1.5.0",
      "model_name": "SliderStyleModel",
      "state": {
       "description_width": ""
      }
     },
     "621184ebc7ee40ecbe78ca6983527afd": {
      "model_module": "@jupyter-widgets/base",
      "model_module_version": "1.2.0",
      "model_name": "LayoutModel",
      "state": {}
     },
     "625be72ee9744f35ba89c23c32527b68": {
      "model_module": "@jupyter-widgets/base",
      "model_module_version": "1.2.0",
      "model_name": "LayoutModel",
      "state": {}
     },
     "69670bd4df1d44e5b0f6c600ed64f7b1": {
      "model_module": "@jupyter-widgets/base",
      "model_module_version": "1.2.0",
      "model_name": "LayoutModel",
      "state": {}
     },
     "6a0cd7a1de564cb79583b5ed7bc48ceb": {
      "model_module": "@jupyter-widgets/base",
      "model_module_version": "1.2.0",
      "model_name": "LayoutModel",
      "state": {}
     },
     "6c0fecb7ea4f4a5b9aa69d0bf1a10167": {
      "model_module": "@jupyter-widgets/output",
      "model_module_version": "1.0.0",
      "model_name": "OutputModel",
      "state": {
       "layout": "IPY_MODEL_09e2f30086764648ab4cacb18a2f0d0a",
       "outputs": [
        {
         "data": {
          "image/png": "iVBORw0KGgoAAAANSUhEUgAAAikAAAGBCAYAAACjNCEAAAAABHNCSVQICAgIfAhkiAAAAAlwSFlzAAAPYQAAD2EBqD+naQAAADh0RVh0U29mdHdhcmUAbWF0cGxvdGxpYiB2ZXJzaW9uMy4xLjMsIGh0dHA6Ly9tYXRwbG90bGliLm9yZy+AADFEAAAgAElEQVR4nOzdd3gU5drH8e9NC6AURZoComIBsaIiiIIi9l6OnBcUCxasqCBNEEUBEQE7KliwoB4LtqOABUWxoICKcuwooICA0gmQ3O8fz+awZ01Cyiaz2fw+1zVXZmeembl3k+ze+7Qxd0dEREQk1VSIOgARERGR3ChJERERkZSkJEVERERSkpIUERERSUlKUkRERCQlKUkRERGRlKQkRURERFKSkhQRERFJSUpSREREJCUpSZGUZGb7mJmb2SYza5hHmWlmNq2UQ8uVmT0WizfXJer4CsrMWpjZYDNrWgLnHlyQ1yL2Wq7JZ/8aM3ss7nHThNc728yWm9m/zaxNPuepa2YbzeyZfMrUNLN1ZvbK1uJOOK5ZLJauhTmuNJlZo9jvZN8Clj869pxOK+nYisLMnjSzHwpQ7hIze9nMfjGz9Wb2vZndZ2YNtnJcQzP7M5Vfg3SkJEVSVffYz0rAeVEGUgjrgTZ5LGVFC+AmoGnEcRTFPYTX+nCgH7Af8K6ZHZBbYXf/A3gFOM3MtsvjnJ2BasD45IcbuUaE33WBkpQ0cguwCugLHAfcCZwGfGZmdfM57n5gXcmHJ/EqRR2ASCIzywC6AF8AOwAXArdHGlTBZLv7x1EHUY79Gvf6fxj7Vv02cDlwcR7HjAfOJPy93ZvL/guBJcDrSY5VorOvuy+Ne/yemc0BPgIuAoYnHmBmnYGOwNXAo6USpQCqSZHUdBpQBxgHPA7sYWbtCnKgmVUxsxvN7D9mlmlmf5jZo7l9QzKz/zOzj2LNB2vMbI6ZXZTcp/K3a441sw1m1ipuWwUze9vMluQ0bZnZ+bFq5U6x+FeY2Voze9XMds3lvEfHzrEq1jzxoZl1zKXcXmY2MXatTDP71cwmmFmGmZ0P/CtW9N245pPzi3CdE2OvZ6aZ/WxmvYr/6hVaTsKycz5lJgMLgQsSd5hZc6A1MMHdN8e27RFrjvoh9vwXmdkrZrb31oLJqznCzG41s80J28zMrjSzL2J/L3+a2b/MbJcCXGerMZrZ0YQPZYAn4n7XN27t/AW4foaZDTKzb2O//6VmNt7Mdogr85qZ/WRmlsvxn5vZp3GPi/xa5CYhQckxE3CgcS7x7ADcTah5WViUa0rRKUmRVHQRkAk8BTxCePPYavJgZhWAlwlvJk8DJ8bWOwHTzKxaXNlbYuf/DTgfOJ2QEO0cV6ZD7I17cEEDN7NKuSzx/2c9gXnAc2ZWO7btJqAD0NXdf0845XggG/i/2LGHxJ5LzrFY6PcwhVCF3Q34B7ACmByfQJjZfoQ340OBQcDxhGaRDKAKobagf6z4FWxpqnq9kNfpSPg9rCY0l/SOlf1bIpCfPF7LwtT+Nov9/COvAu6eDTwGHBh7feLlxPtI3LadYue7gdBUcCXh7/NTM2tG8owHRhGSqFMJv499CDVE+TVJFDTGT9nSpDqYLb/rYtUSmFlF4DXC7/wJwv9gf8Lf2jtmVjVW9BFgF6B9wvEtgQMT4ijOa1FQRwIGfJ3LvnuB74AHknQtKQx316IlZRZCkpAFTIzbNg1YA9RIKDsNmBb3uDPhzfiMhHIHxbb3iD3eBdgMPLmVWNrHyg0qQNyPxa6R2/JWQtlmwErgJUIVchYwJKHM+bFjX0zY3ja2fUDscXVgOfBKQrkKwBzgk7htbwN/AnXzeR5nxc7fIWF7Ya7zMbAIqBq3rUbseC/ma5mzPBZXvmls2w2EJuwMwgfdp7HtJ2zlersQEsG74rZVAn4HPtjKsRWBysBPwIiE37ETEs+cbU8CP+RyjluBzXGP28WOvTqX/40NwG2F/J/KK8ZDE2PcynmOjpU/LZ8yXWNlTknY3jq2/eLY48qEROrxhHJ3Evp21S7sa5HX61uA51UL+Bb4GaiesO9Uwhem5gV9DbQkd1FNiqSaCwgffPHfXh8BtgHO2cqxJwF/Aa8mfPOeAywm1FZAqFmpCNyX38nc/T13r+TutxQw9vXAwbkslyec9wdCH4nTCN86pxO+zebmqYRjZwC/EL75QUhatgceT3jOFYA3gYPNbBszq05Iup7z0GG0sAp6nW1iz/lFd98QF/dq4NVCXC+v1/Lg2L7c3A5sInx4fQ40AS5193/ndyF3/xl4F+hiZlVim48HGvC/f4eYWWULzYnfmNlGQhK7kZDoNC/E88vPSYSk6amE13oR8BVb/o5zVUox5uUkQjL674TYPweWEYvd3TcR/rbPMrMasbgrEZKcl9z9r7jzFfm12JpY7epLhNqns919Xdy+2oTak6HuPq8415GiU8dZSRmxZpHzCU0wn8c1abwFrCU0+YzL5xT1gdqEN+Tc5LSJ51QRJ7t9OdvdPytg2dcJHTLrA6PcPSuPcovz2FYntl4/9vP5fK61PeGNviJFf84FvY4TEpe84i6oPF9LM8vO45i7CN+mswnJ6s8e+/pbAOMJH5qnEJ7jBYTau+dyucYlhM6V78euk9NkVI3kqE94DZflsf+7rRxfGjHmpT7hb3NTHvt3iFt/BLiG0BQ4HjgBqMf/NvUU97XIU6zp6WVCjdIJufy9DSeM5nkg7r1om5yfZlY7LpmSEqIkRVLJ0WzpE7I8l/2HmlkLd/8mj+OXxY47Lo/9q2M/c2oSGgELihJoEowlNIF8DdxtZtPd/c9cyuU2d0MDIKcDZs6b91Vs6SiaaAkhQckiPOeiKOh1KhMSlbziLkkLC5EkJnqR0BR2oZm9R/gGP8HdE+dr6Qo86u7/08E01rlya0nYBkJTVKIdEh4vIyQV7cj9w35DLtuSFWNxLSP8HZyUx/5VOSvu/qWZzSIkhONjPxcQmiXjz1ec1yJXsQTlFcJw9ZPdfVouxVoCuxGeT6InY+epkcvfiCSRkhRJJRcR3pDOIPTZiNeI0BHvQiCvkSKvEfqlVHT3T/K5zhTCB3YPtoxwKDVm1p3wQXIh8B4wi/DtMbcJoroAL8Qd25aQyOXUKH1I+Kbcwt1zG0Ibf933gLPNbIC75/XNNDP2M/Ebd0GvszE2MuMMM+ud0+QTq9I/Ob/4ouTuG8zsaeAyoA8h2Xokt6JseY0AMLNTCd/4527lMvOBhmZWN6fJzcJw+2MSyr1G+Btv6O4vFvKpFCbGvH7XxfEasX5N7v55Aco/CtxjZocROtkO99CZOf58xXkt/iauBuUIQt+St/IoehWhv0q8VsBIYCDwAXk3PUqSKEmRlGBmdQid1Ca7+8t5lLkWOM/M+sXatBM9Q/hQ/7eZ3UXoOLmJkOAcCbzs7i+5+3wzGwoMjLVJTyQkRS2AHdz9ptj12hO+1d1SwH4pFczs0Dz2zXb3TDPbhzCc8XF3fzR2nYuA582sp7uPSTjuIDMbRxga3Bi4jdAefz+Au68xs6sIfUW2JzRVLCU0ae1H6CTbI3au6whvrJ+Y2XBCbUx9QhPHpbF+IzkfYpeY2WrCN9Wf3X15Ia4zkNBPZaqZ3UmoxelDaLLbvgCvY1TGE0aOXAf8J9b/J9FrwEVm9j2hT8TBwPWE38nWTCSM5HrGzEYSOiNfk1jI3d8zs0eACWbWmtBksw5oSPjmP9vdH8rnOgWN8XvC7/dcM/uO8PtZ5H8fYZaoTR6jrN4lNJn9H2HE1xjgM0KfmJ2Ao4Dn3T2+b9JThA/9ZwifR4/FnzAJr0VuXiQkhrcAfyX8z67M6X/i7rMTD4x73nPzqH2RZIu6564WLe4O4c3agVPzKXMpcaN3SBjdE9tWifCGPIfwLWc1YcjvWKBZQtlzCYlMTrlZwPlx+zvErje4APE/Rv6jUZoR2rPnEZp4EkcR3EvoS3NI7PH5seM6ARMITRHrCH1ZmuVy/SMIH07LY+dZGHt8VkK55oR+FssI36R/IXybzUj4XfxE+HDxhNekoNc5mTAZX841+hA6B3sBX8s1+exfQ+6je3ol4e9wVuxcvfPYvx2hhmUp4UP9fUKn4g+IG8VFLqN7YttPjP1triMkiT1IGN0TK2eEIcKfxK6zjpBUPAYcsJXnUKAYY2W7AP+J/S4duDGf8+aMbMlraRcrV5kwBPkL/vd/8AFgt1zO+2zs+Gl5XLdArwUFGN1DeH/I7zm8tZXjNbqnlBeLvfAikkIsTKD2KHCwF72fhYhImaYhyCIiIpKSlKSIiIhISlJzj4iIiKQk1aSIiIhISlKSIiIiIilJSYqIiIikJE3mVkRmZsCObJlqXURERAquBvCb59M5VklK0e1I8m9QJyIiUp40Ip8Zm5WkFN1qgAULFlCzZs2oYxERESkzVq1aRePGjWErrRFKUoqpZs2aSlJERERKgDrOioiISEpSkiIiIiIpSUmKiIiIpCQlKSIiIpKSlKSIiIhISlKSIiIiIilJSYqIiIikJCUpIiIikpKUpIiIiEhKUpIiIiIiKUnT4otI+ti8GebNg7lzw/L11/DTT7Bhw5YlKwvq14fGjbcshxwC7dpBjRpRPwMRiRN5kmJmlwO9gYbA10BPd5+eR9m9gVuAVsDOwLXuPiahzPzYvkT3u/sVsTLTgPYJ+591985FfyYiEom1a2HKFHj5ZXjtNVi+fOvHrFgRkpl4FSvCQQdBhw5w5plh3axEQhaRgok0STGzc4AxwOXAh8ClwBtm1sLdf83lkOrAT8C/gNF5nPZgoGLc45bA1Ngx8R4GBsU9Xl/oJyAi0Zk5E0aNgkmTQg1Jjho1YJ99oGXLsOyxB2y7LWRkhMUMFi+GBQtg4UL44QeYPh1+/hk++SQst98O++4L3btDly6w/fbRPU+RcszcPbqLm30CzHL3HnHb5gGT3L3fVo6dD4xJrEnJpdwY4CRgd4892VhNyhx371mM2GsCK1euXKm7IIuUlqwsePVVuPNO+OCDLdubNoXTToNTTw3NNpWK8P3rl19g2jR480146SXIzAzbMzLg3HNh0KDQNCQixbZq1Spq1aoFUMvdV+VVLrKOs2ZWhdBsMyVh1xSgbRKv0RV4xP+ejXUxs2Vm9rWZjTSzfBujzSzDzGrmLIAar0VK09SpoXbj9NNDglKpUkgeZs4M/U5Gjw5NNUVJUAB23hm6dYOJE+H33+Gee2C//UKyMm4c7L47XHcd/PFHUp+WiOQtspoUM9sRWAQc5u4z4rb3B7q5+55bOX4+W6lJMbN/AE8DTdz9t7jtFwM/A4sJzUHDgB/cvVM+5xoM3JS4XTUpIiXsxx/h+utDnxOA2rXhsstovWovltTYoWSv7U6rRfPo/f4EDl0wF4A1VarxQOuzeKj1GXx/x2kle32RNFXQmpRUSFLauvtHcdsHAOe6+15bOX4+W09SJgMb3f3krZyrFfAZ0MrdZ+VRJgPIiNtUA1ioJEWkhGzcCEOGwIgRYb1iRbjqKrjpJqhdm6Z9Xy+9WNw54udZ9H5/Avss+RGAb+rtQos3X4ADDii9OETSRMo39wDLgCygQcL2esCS4p7czHYGjgbGFaD4LGATsHteBdw9091X5SzA6uLGKCJ5+PZbaNMGbr01JCidOsGXX4Ymndq1Sz8eM97ftRWndBtNz5OuZ0W1mrRY+jMcfDDceOOW/isiklSRJSnuvhH4HEhsYukEzPj7EYV2AbAUKMjXrb2BysDvSbiuiBSVOzz8MBx4IMyaFUbV/OtfMHkytGgRdXS4VWDS3kdyzEX38fqeh4WOvLfdFpKVH36IOjyRtBP1jLOjgO5mdqGZNTez0UATYCyAmU0ws2E5hc2sipntb2b7A1WAnWKPm8Wf1MwqEJKUx919c8K+3cxskJkdZGZNzewEwvDk2YRh0CIShVWr4Oyz4ZJLYN066NgRvvoKzjor5eYrWbbNdlxxWr+QQNWtG+I86KAwT4uIJE2kSYq7Pwv0JMxXMgc4AjjB3X+JFWlCmOQtx46EZGJ2bHuv2Hpik87RsWMfyeWyG4GOwGTgW+Buwoiio909q/jPSkQKbf58OOwweOEFqFwZ7rgjTNC2445RR5a/s86COXOgbVtYuRJOPhkGD4bs7KgjE0kLkc6TUpZpnhSRJPnoozDHydKl0LBhmJztkEO2elipdpzNw/zhJ4aVjRvD8OT77guPTzopDGXedtvoghNJYWWh46yIlHdPPQVHHhkSlP33h08/LVCCknKqVIF774XHHoOqVUOzT8eOsGxZ1JGJlGlKUkQkGqNHQ9euYWTMqaeGqekbNYo6quLp1i3MWrv99iHhatcOfs3tDh8iUhBKUkSk9A0dGppHIPx88cX0aRpp3TrMiNuoURhKfdhh8M03UUclUiYpSRGR0uMOAwfCgAHh8c03w8iRUCHN3oqaN4cZM2CvvcJNDA8/HGbPjjoqkTInzd4ZRCRluUPv3mGCNggzyQ4alHLDi5OmceNQo3LIIbBiRZiQbu7cqKMSKVOUpIhI6ejXL9y9GMLN+3r3jjae0lCnThhKfdBBsHw5HH10aAISkQJRkiIiJe+OO+D228P62LFw5ZXRxlOaatUKM+butx8sWRJG/fz0U9RRiZQJSlJEpGSNHw833BDWR4yASy+NNp4obL89TJ0apvZftAiOOir0VRGRfFWKOgARSU3JmCzt2G9ncP/Lw6kIPND6LG5f3gIKeN7/TpSWLurWhbffhvbt4bvv4IQTwrDrMKGViORCNSkiUiIO/fVL7n51BBU9m6f3O5bb23eLOqToNWgQ+qg0aBDu93P22bBpU9RRiaQsJSkiknS7rFjE2JeGkpG1mX/v0ZYbj7k8fUfxFNbOO4cZabfZJjQBXXppGPkkIn+jJEVEkqrmhjWMe+EWam9Yw6wd9+Tak3uRXaFi1GGlllat4Lnnwvwwjz66ZVi2iPwPJSkikjSVsjZz/6Rh7LZiEQtr1uWSM24ks1KVqMNKTSecsOWGhIMGhRsSisj/UJIiIsnhzuC3HqTdL1+wtnJVup85iGXbbBd1VKntssu2zBdz0UUwZ0608YikGCUpIpIU585+na5z3iAb4+pTevOfertEHVLZMGwYHHccrF8Pp58eJn0TEUBJiogkwYGL5jHo7YcBGN7hfN5u1jriiMqQihXh6adht91g/nzo3Bk2b446KpGUoCRFRIpl+3UruW/ScCpnZ/HaXofz0CFnRB1S2bPddjBpUhjx89Zb0L9/1BGJpAQlKSJSZBWys7j7lRE0XLOcH7dvRJ/jrtJQ46Jq2TKM9IFwG4Hnnos2HpEUoCRFRIqs5wdP0+6XL1hXOYPLTuvH2ozqUYdUtp19NvTpE9a7d4cff4w2HpGIKUkRkSI58seZXP3RswD0Pe4qvq+7c8QRpYlbb4V27WD16tA/ZePGqCMSiYySFBEptHqrl3Pn66MBePzAE3mlRYdoA0onlSqFjrTbbw+ffQZ9+0YdkUhklKSISKGYZzPq9VFsv34Vc+vvxm1Hdo86pPTTuDE89lhYHz06TKMvUg4pSRGRQrn405f+2w/l6pN7s7FS5ahDSk8nnww9e4b1bt1g4cJo4xGJgJIUESmwlot/oNf7TwBwc8dL+KlOo4gjSnPDh4f7/KxYAeeeC9nZUUckUqqUpIhIgVTfuJ67XxlBlezNvLFHW57d95ioQ0p/GRnwzDNh/pRp02DMmKgjEilVSlJEpEAGvv0wu/75G79vW4e+mg+l9DRrBqNGhfX+/WHu3GjjESlFSlJEZKuO/HEm//xyCtkY1558PSur1Yg6pPLl4ovhxBMhMxO6dtWwZCk3lKSISL5qrV/N8DfvAeCRg07h4yb7RhxROWQG48ZBnTrwxRcweHDUEYmUCiUpIpKvwW89SP01K/hx+0bcccR5UYdTfjVoAA8+GNZvvx1mzIg2HpFSUCnqAMzscqA30BD4Gujp7tPzKLs3cAvQCtgZuNbdxySUGQzclHDoEndvEFfGYmUuAbYDPgGucPevk/GcRNLFsd/N4PRvppFlFeh1Qk8yK2dEHVKZ0rTv60k+Y1Xu3PtIzvz6XX4+6SyOv+AeNlSummfp+cNPTPL1RUpXpDUpZnYOMAa4DTgAmA68YWZN8jikOvAT0BdYnM+pvyYkPTnLPgn7bwCuA64EDo6da6qZqaFdJGa7dSu5dfL9ADx0yBnM3mmviCMSgMGdLuP3beuwy5+/c+0HT0cdjkiJirq55zpgvLuPc/d57t4TWAD0yK2wu890997u/gyQmc95N7v74rjlj5wdsVqUnsBt7v6iu88FuhESoP9L1hMTKeuGTB1L3XV/8e0OTRjdrkvU4UjM6oxtGHDsFQB0nzmJ/X77NuKIREpOZEmKmVUhNNtMSdg1BWhbzNPvbma/mdnPZvaMme0at28XoEH8dd09E3gvv+uaWYaZ1cxZANW6SPqaNImT/jOdzVaB60+8TrPKpph3mh3CSy06UNGzGfHGXVTZvCnqkERKRJQ1KTsAFYElCduXEJKIovoEOA84Frg4dq4ZZlYntj/n3IW9bj9gZdyiOaolPa1cCVeEb+oPtT6DuQ2aRRyQ5OaWjhezrHot9lz2K1d89FzU4YiUiKibewA84bHlsq3gJ3N/w91fcPev3P0tIKfnWLdiXncYUCtu0Xzgkp769YPffuPn7RpyV9t/Rh2N5OHP6rUY1Cm0jF/+8XPstfTniCMSSb4ok5RlQBZ/r72ox99rOYrM3dcCXwG7xzbldLgt1HXdPdPdV+UswOpkxSiSMj74AB54AID+x16l0Twp7t97Hsabe7ShcnYWI964iwrZWVGHJJJUkSUp7r4R+BzolLCrE5C0CQDMLANoDvwe2/QzIVHpFFemCtA+mdcVKXM2bAgzmwJ0785HO2vStpRnxsBOl7MyYxv2XfwD581K9pBnkWhF3dwzCuhuZheaWXMzGw00AcYCmNkEMxuWU9jMqpjZ/ma2P1AF2Cn2uFlcmZFm1t7MdjGz1sDzQE3gcQB3d8Kw5/5mdrqZtQQeA9YBGs8n5dfQofCf/4RJw0aMiDoaKaA/tt2O2zucD8D105+gwapl0QYkkkSRJinu/ixhOPAgYA5wBHCCu/8SK9KEMM9Jjh2B2bGlIdArtj4urkwjYCLwLfAisBE4NO6cACMIicr9wGfATsAx7q4mHCmf5s2D4cPD+j33wHbbRRuPFMrE/Y7l8x33osbG9dz09kNRhyOSNJHPOOvu9xOShdz2dUh4PJ/QwTW/83UuwDUdGBxbRMo3d7j8cti0CU46Cc48M+qIpJDcKtD/uCt57bFrOP67GXT84RPebtY66rBEii3q5h4RidpTT8G0aVCtWqhFsXy/B0iK+rZuU8YffBoAN08dS7WNGyKOSKT4lKSIlGd//gnXXx/WBw6Epk0jDUeK5662/2RhzXo0WvUHPT9UFzsp+5SkiJRnN94IS5dC8+ZbkhUps9ZXqcqNx4S5Uy6aOQnmzo04IpHiUZIiUl7NnPnfOVG4/36oUiXaeCQppu12MG/u0YZKng1XXhn6HImUUUpSRMqjrCzo0SN8gHXtCh06RB2RJNGQoy5mfaUMeO89mDgx6nBEikxJikh5NG4cfP451KoFI0dGHY0k2aJa9bivzdnhQa9esGpVtAGJFJGSFJHyZsUKGDAgrA8ZAvXrRxuPlIiHDzkDdtsNfv8dbrkl6nBEikRJikh5M3AgLF8OLVuGJh9JS5mVqsDdd4cHd90F33wTbUAiRaAkRaQ8+eILGDs2rN9zD1SKfD5HKUknnACnnAKbN6sTrZRJSlJEygt3uOoqyM6Gf/xDnWXLizFjoGpVePddeOGFqKMRKRQlKSLlxTPPwPTpYWbZO+6IOhopLbvsAjfcENZ794b166ONR6QQlKSIlAdr1oQPKID+/aFJk2jjkdJ1ww2w004wfz6MGhV1NCIFpiRFpDwYMQIWLQrfqnv1ijoaKW3bbBP+BgCGDg1/CyJlgJIUkXT3669bmndGjgz9E6T8+ec/oW1bWLcO+vaNOhqRAlGSIpLu+vaFDRugfXs4/fSoo5GomIWhyABPPgkffxxtPCIFoCRFJJ3NmBGmRTeD0aPDTym/DjoILrggrF9zTRjpJZLClKSIpKvsbLj22rB+4YVwwAHRxiOpYehQ2HZb+PRTePrpqKMRyZeSFJF09fTT4YNo223h1lujjkZSRYMGYYQXQL9+oY+KSIpSkiKSjtau3dI5csCA8MEkkqNnzzAMfeHC0AwokqKUpIikozvvDMNMmzYNH0gi8apVg+HDw/qwYbB4cbTxiORBSYpIuvn99y1zYgwfriHHkrvOneGQQ0Kt26BBUUcjkislKSLpZtCg8MHTunW4R49Ibsy2zD47fjx89VW08YjkQkmKSDr56it45JGwfuedGnIs+TvsMDj77DASTDMRSwpSkiKSTm64IXzgnHlm+AAS2Zrhw6FKFZgyBd58M+poRP6HkhSRdJHzIVO58pZOkSJbs+uucNVVYf2GGyArK9p4ROIoSRFJB1lZW+5yfMUV0KxZtPFI2TJgAGy3XWgufOKJqKMR+S8lKSLpYMIE+PJLqF0bbrwx6mikrNluu5CoQPj70QRvkiKUpIiUdevXw8CBYX3AAKhTJ9p4pGy64grYeecwv07OjQhFIlYp6gBEyqOmfV9P2rl6fPwv+ixaxMKadem4eDcyC3Du+cNPTNr1JU1UrRru69OlS5jgrXt3qFs36qiknFNNikgZVnv9Knp8/DwAdx5+LpmVqkQckZRpnTvDgQfC6tUwZEjU0YhEn6SY2eVm9rOZbTCzz83s8HzK7m1mL5jZfDNzM/vbfN9m1s/MZprZajNbamaTzGzPhDLTYsfHL8+UxPMTKUlXzniWmplr+abeLkzau0PU4UhZV6ECjBwZ1h94AL7/Ptp4pNyLNEkxs3OAMcBtwAHAdOANM2uSxyHVgZ+AvkBeN5toD9wHHAp0IjRpTTGzbRLKPQw0jFsuLfozESl9jVYu4dzZoWlnWIcLcIv8O4ekgyOPhBNOgM2b1QlbIhf1u9p1wHh3H+fu89y9J7AA6JFbYXef6e693f0ZIDOPMse5+2Pu/rW7fwFcADQBWiUUXesvXw0AACAASURBVOfui+OWlcl7WiIl7/r3nyAjazPTd96f6bscGHU4kk6GDw+zFT/3HMycGXU0Uo5FlqSYWRVC4jAlYdcUoG0SL1Ur9nNFwvYuZrbMzL42s5FmViO/k5hZhpnVzFmAfMuLlKS9l/zI6d9MA2B4h/MjjUXS0D77wLnnhvW+fcE92nik3IqyJmUHoCKwJGH7EqBBMi5gZgaMAj5w97lxu54C/gl0AIYAZwIvbuV0/YCVccvCZMQoUhR9pj0GwKQW7fm6gSZukxJwyy1huvx33oGpU6OORsqpqJt7ABJTdMtlW1HdC+xLSEi2XND9YXd/y93nxpqOzgKONrP86syHEWplcpZGSYpRpFDazp/DEfNns7FCJUYefm7U4Ui62nlnuPLKsN6nT7gnlEgpizJJWQZk8fdak3r8vXal0MzsHuAU4Eh331qtxyxgE7B7XgXcPdPdV+UswOrixihSaO70ee9xAJ464HgW1k5KpaNI7vr3h5o1Yc4ceEYDIKX0RZakuPtG4HPCCJx4nYAZRT2vBfcCZwBHufvPBThsb6Ay8HtRrytSGk749kP2W/w9a6pU494250QdjqS7OnVCLQqE2Ywzcx2vIFJiom7uGQV0N7MLzay5mY0mjMQZC2BmE8xsWE5hM6tiZvub2f5AFWCn2OP4Rvn7gK7A/wGrzaxBbKkWO8duZjbIzA4ys6ZmdgLwL2A28GFpPGmRoqiUtZle708AYNzBp7F8m9oRRyTlwjXXQMOGMH8+PPhg1NFIORNpkuLuzwI9gUHAHOAI4AR3/yVWpAlhDpMcOxKSidmx7b1i6+PiyvQg9BmZRqgZyVlyvnZuBDoCk4FvgbsJI4qOdnfdo1xS1j++msquf/7Gsuq1ePjg06MOR8qLbbaBwYPD+q23htloRUpJ5Pfucff7gfvz2Nch4fF8Qsfa/M63tf0LCBO+iZQZVTdt4JoPJwJwb5tzWJtRPeKIpFy54IIwE+3338Po0TBoUNQRSTkRdXOPiBTAhZ+9Qv01K1hQqz5P73981OFIeVO5cqhFgZCs/PFHtPFIuaEkRSTF1Vq/mss+eQGAOw/vysZKlSOOSMqls87acvPBYcO2Xl4kCZSkiKS4yz55gZqZa5lXtykvt1BLpUSkQoUtycl998Gvv0Ybj5QLSlJEUli91cu54PNXALjjiPN0E0GJVqdO4QaEGzdu6UwrUoL0jieSwq6e8QxVN2/ks52a885uB0cdjpR3ZltqUx5/HL75Jtp4JO0pSRFJUU1XLKLzF5MBuL19t/ABIRK11q3h9NPDNPkDBkQdjaQ5JSkiKeq6D56ikmfz7q6tmNm4ZdThiGxx662hj8qkSfDpp1FHI2lMSYpICmqx5CdOmfc+AHcc0S3iaEQStGgB58Zubtm/f7SxSFpTkiKSgnq/H24i+HLz9nxTf9eIoxHJxeDBYf6Ut98Oi0gJUJIikmIOXjCXI3/6nE0VKjLq8C5RhyOSu6ZN4bLLwnr//uAeaTiSnpSkiKQSd3rHbiL43L6d+GW7HSMOSCQfAwaEe/t8+mnonyKSZEpSRFJIh58+45CF37ChUhXubts56nBE8le/PvTsGdZvvBGydI9WSa4iJSlmNt/MBplZk2QHJFJemWfT+/0nAHj8wJNYUmOHiCMSKYBevWC77cKcKU8+GXU0kmaKWpNyJ3Aq8JOZTTWzzmaWkcS4RMqdE//zAXsv/YnVVarxwKFnRR2OSMHUrg19+4b1m26CzMxo45G0UqkoB7n7PcA9ZrYfcCFwN3C/mT0NPOLus5IYo0jaq5idxXXTw7fQhw85g7+q1Yw4IikvmvZ9vdjnqLppN97bdnvq//ILA0/uyRMHnlTgY+cPP7HY15f0Vaw+Ke7+hbtfA+wE3Ax0B2aa2RdmdqGZpsgUKYizvnqLXf/8jWXVazH+oFOjDkekUDZUrso9sT5UV894hmobN0QckaSLYiUpZlbZzP4BvEJoAvqMkKg8B9wGPFXsCEXSXMbmjVzz4UQA7j/0H6zNqB5xRCKF9+y+nfildgPqrv2L82e9GnU4kiaK2nH2QDO7B/gduAf4Gmjp7u3c/VF3vw04BTg9eaGKpKeus//NjquXsahGXZ464PiowxEpkk0VKzO6XZjX57KPn6fmhjURRyTpoKg1KTOB3YEeQCN37+Xu/0ko8w3wTHGCE0l322Su4/KPngPgrsP+SWalKhFHJFJ0rzQ/gm93aEKtzLVc8umLUYcjaaCoScqu7n6cu//L3TflVsDd17r7BcWITSTtXfjZy9RZv4qfttuRF/bpGHU4IsWSXaEiI484Dwh/2zus/TPiiKSsK2qS8q6Z1UncaGa1zeynYsYkUi7UXr+Kiz99CYBRh3clq0LFiCMSKb6pzVozu+GeVN+UyRWxWkKRoipqktIUyO0dNYMw0kdEtuKyj5+n5sZ1fF1vV17fq13U4Ygkhxkj2ofalC6z32CnlUsjDkjKskLNk2Jmp8Q9PNbMVsY9rgh0BOYnIS6RtFZv9XLOn/UaAHcccS5uukOFpI+Pdt6PD3bej3a/fME1Hz7NDSf0jDokKaMK+844KbY48Hjc40mETrKdgOuTGaBIOrrqo2epunkjM3dqwbRdD4o6HJGky+mbcubcd9ht2YKIo5GyqlBJirtXcPcKwK9AvZzHsSXD3fd099dKJlSRNPHjj3T+YjIAd7Q/DzTnoaShOTvuyeTdD6WiZ3PdB7qnjxRNkeqY3X0Xd1+W7GBEyoXBg6mcncV7uxzIp41bRh2NSIm58/CuZGOc+O2HtFz8Q9ThSBlU4D4pZnY18JC7b4it58nd7y52ZCLp6Kuv4KkwEfMdsepwkXT1Xd2mTNq7A2d8/S69359At3/cEnVIUsYUpuPstYRp7jfE1vPihBsOikiigQPBndf3PIy5DZpFHY1IiRvdrgsnz3uf9j/PovWvX/FJk32iDknKkAI398SaeJbHree17Fpy4YqUYR9/DC+/DBUqMOrwrlFHI1IqFtRuwDP7HQtA7/cngHvEEUlZonGPIqVlwIDws1s3fqzTONpYRErRPW3OYX2lDA5aNI+jfpwZdThShhQ4STGzUQVdChuEmV1uZj+b2QYz+9zMDs+n7N5m9oKZzTczN7NcB+Bv7ZxmlmFm95jZMjNba2avmFmjwsYuUiBvvQXvvANVqsDgwVFHI1Kqltaow+OtTgJCbYp5dsQRSVlRmJqUAwq47F+YAMzsHGAMcFvs+OnAG2bWJI9DqgM/AX2BxcU45xjCXZo7A+2AbYHXzExzk0tyuUP//mG9Rw9okteftkj6eqD1WazK2Ibmf8zn5HnTow5HyogCd5x19yNLKIbrgPHuPi72uKeZHUu4w3K/XOKYSbgLM2Y2vCjnNLNawEXAue7+VuxcXYEFwNHA5MQTmlkGYdr/HDUK9Syl/Jo0CWbOhG22gX5/+5MWKRdWVqvBg4ecQe/pT3Dd9Cf5956HsblioSY9l3Io0j4pZlYFaAVMSdg1BWhbgudsBVSOL+PuvwFz87luP2Bl3LKwKPFJOZOVtaUvyrXXQv360cYjEqFHDzqFP6rXpulfv/OPr6ZGHY6UAYXpk/KimdWMW89zKcT1dyDc82dJwvYlQINCnKew52wAbHT3xPuI53fdYUCtuEX9V2TrnngC5s2D7beHXr2ijkYkUuuqVOPetucAcPWHE8nYlBlxRJLqClOTspIwB0rOen5LYSWOSbNctpXGOfMs4+6Z7r4qZwFWFzM+SXeZmXDTTWG9Xz+oVSvaeERSwMT9jmNhzXo0WLOCbrN0FxXJX2H6pFyQ23oxLQOy+HvtRT3+XhOSzHMuBqqY2XYJtSn1gBlFvK7I/xo7Fn79FXbaCa64IupoRFLCxkqVGd2uC3f+ezSXf/wv+GsU1K4ddViSoorVJ8XM6pnZ4WbWzszqFfZ4d98IfE64e3K8ThQxWSjgOT8HNsWXMbOGQMuiXlfkf6xeDbfdFtYHDYJq1aKNRySFvLR3B76r04TaG9bAyJFRhyMprEhJipnVNLMngEXAe8D7wCIzezI2cqYwRgHdzexCM2tuZqOBJsDY2LUmmNmwuGtXMbP9zWx/oAqwU+xxs4Ke091XAuOBO82so5kdADwJfAW8VegXRCTR6NHwxx+w++5wQbIqHkXSQ3aFiow84tzwYPRoWJzrbBIiRa5JGQe0Bk4CahM6kp4EHAQ8XJgTufuzQE9gEDAHOAI4wd1/iRVpAjSMO2RHYHZsaQj0iq2PK8Q5Idx/aBLwHPAhsA442d2zChO/yN8sW7bl2+GQIVC5crTxiKSgKbsfyuyGe8K6dXDrrVGHIymqqEnKicCF7j451pF0tbtPBi6O7SsUd7/f3Zu6e4a7t3L39+P2dXD38+Mez3d3y2XpUNBzxvZvcPer3L2Ou1d395PdfUFhYxf5m2HDQnPP/vvD2WdHHY1IajLj9g7dwvqDD8JPP0Ubj6SkoiYpy8l9FM9KIHFYr0j58euvcN99YX34cKig22OJ5OXjJvvCscfC5s2h75ZIgqK+g94KjIp1NgXAzBoAdwBDkhGYSJk0eHAYetyhAxxzTNTRiKS+oUPDz6efhi++iDYWSTmFmcxttpnNMrNZwGXAocAvZvaDmf0A/EqYrfXSkglVJMV98w08/nhYHz4czKKNR6QsOPBAOOeccI+rnNmZRWIKc+OESSUWhUg6GDAAsrPh9NOhdeuooxEpO4YMgeefh9dfh+nT4fDDt36MlAuFmczt5pIMRKRM+/jjcCPBChW2zI8iIgWz++7QvXvoQNunD3z4oWoiBYj4BoMiacEd+vYN6+efD82bRxqOSJmUM+nhRx/Byy9HHY2kiKJO5lbRzHqZ2admttjMVsQvyQ5SJKW9+Sa89x5kZISOsyJSeDvuGO4UDtC/fxjxI+VeUWtSbgKuI0yEVosww+uLQDYwOCmRiZQFWVlbalGuvBIaN442HpGy7IYbwh3D582DCROijkZSQFGTlC7Axe4+EtgMTHT37sAthFE/IuXD00/Dl1+GOxz37x91NCJlW61aW0b4DBoE69dHG49ErqhJSgPCfW4A1hBqUwBeowgzzoqUSRs2wI03hvV+/cI3QBEpnssvhyZNYNEiuPfeqKORiBU1SVnIlvvp/ADkzFp1MJBZ3KBEyoQHHggzzO60E1x9ddTRiKSHqlXhllvC+tCh8KcmMS/PipqkvAR0jK3fBQwxs++BCcAjyQhMJKX99deWm6LdcksYlSAiydG1K7RsGf7Phg2LOhqJUJGSFHfv6+5DY+vPA4cDDwBnu3vfJMYnkppGjIAVK6BFCzjvvKijEUkvFSvC7beH9bvvDjWWUi4lZZ4Ud//Y3Ue5+yvJOJ9ISlu0CMaMCevDhkGlwkzcLCIFcvzx4R5YmZkwcGDU0UhEipykmNmeZnavmb1tZm/F1vdMZnAiKemmm8Kog3bt4OSTo45GJD2ZhRpLgCee0M0Hy6miTuZ2FjAXaAV8AXwJHAjMNbOzkxeeSIqZOxcefTSsjxihqbtFStLBB2+5+WCfPlFHIxEoak3KCGCYu7dx9+tiS1tgKHB78sITSTF9+oSbCJ51FrRpE3U0IunvttugcmWYPBneeivqaKSUFWeelNymA3wytk8k/bzzDvz736EPytChUUcjUj7sthv06BHWb7ghfEmQcqOoSco0woieRO2A6UWORiRVZWdD795hvUePcNdWESkdN94INWvC7NlhlmcpNwqcpJjZKTkL8Apwe6yzbNfYci8wnDCHikh6mTgRZs0Kb5QaaSBSuurW3XKPrAEDNF1+OVKYmpRJccv9wA7A5YRmnwmx9brAfUmOUSRaGzZsuS9P377hDVNESlfPntCoUZgz5e67o45GSkmBkxR3r1DApWJJBixS6u65Z8v099dcE3U0IuVTtWpb+oINHQp//BFtPFIqkjKZm0jaWrYsjC6AMA1+9erRxiNSnnXpAgceCKtWbbm/j6S14kzm1t7MXjWzH8zsezN7xcxy60wrUnbdfDOsXAn776/p70WiVqECjBwZ1seOhW+/jTYeKXFFms/bzLoCjwIvAncDBrQF3jaz891d3a8lMk37vp6U8+y2fAGTx99PJeCfe53NR/3fKPCx84efmJQYRCTBkUeGmZ5ffTXMWzRpUtQRSQkqak3KAOAGdz/H3e9297vc/RygL6ChD5IW+k57lEqezdRmh/DRzvtFHY6I5Lj99nATwpdfhvfeizoaKUFFTVJ2BV7NZfsrwC5FD0ckNbT55Qs6/fApm60CwztcEHU4IhKveXO45JKwft11muAtjRU1SVkAdMxle8fYPpEyq0J2Fje+Mx6AJw84gR/rNI44IhH5m5tvDvMWzZoFE3KbAF3SQVGTlDuBu83sATM7NzaZ21jgLmBk8sITKX1nfP0uey/9iVUZ23DXYf+MOhwRyU3dumEmWoB+/WDNmmjjkRJRpCTF3R8AOgP7AGMIyUlL4Bx3f7Cw5zOzy83sZzPbYGafb22UkJmdaWbfmFlm7OfpCfs9j6V3XJn5uewfXtjYJb1U37ie3u+Hb2X3tvkHf1avFXFEIpKnq6+GXXeFxYtDPxVJO4VOUsysopm1B6a5ezt3rxNb2rn7y0U43zmEROc24ADCvX/eMLMmeZRvAzwLPAHsF/v5nJm1jivWMGG5EHDghYTTDUood2th45f0cvnH/6L+mhXMr92Qx1qdEnU4IpKfjAy4446wPnJkmHRR0kqhkxR3zwImA7WTFMN1wHh3H+fu89y9J6FfS488yvcEprr7MHf/j7sPA96Obc+JcXH8ApwKvOvuPyWca3VCWdUXlmON/lrMxZ+GW08NPfJCNlaqHHFEIrJVp58O7duH21f06xd1NJJkRe2T8hVhhE+xmFkVoBUwJWHXFMK8K7lpk0v5yXmVN7P6wInA+Fx29zGz5WY2x8wGxOLJK9YMM6uZswA18iorZVPfaY+RkbWJD3felym7Hxp1OCJSEGYwalT4+fTT8PHHUUckSVSceVJGmtlJZtYw/sM79gFeUDsAFYElCduXAA3yOKZBIct3A1YTJp6LdxehX82RwL2Empj784m1H7AyblmYT1kpYw5ZMJeTvv2ALKvAkKMuDm94IlI2HHggdOsW1q+5RkOS00hRk5Q3Cf1BXiF8WP8ZW/6K/SwsT3hsuWwravkLgafcfcP/nMB9tLu/5+5fuvs44DLgIjOrk8d5hgG14pZG+cQnZUiF7CwGvf0wAM/sdwz/qaepfkTKnKFDYdtt4dNP4Yknoo5GkqRI0+ITah+SYRmQxd9rQerx99qSHIsLWj42SmhP4JwCxJJTR9gMWJ64090zgcy4cxfglFIWnDn3bVou+ZFVGdtw5+HnRh2OiBRFw4ZhSHLfvmE54wyooVb5sq5QNSlmVt3M7gOeBv4FXAp8HauR+O9S0PO5+0bgc6BTwq5OwIw8Dvsol/LH5FH+IuBzd/+iAOEcEPv5ewHKSpqokbmWG94LQ47vatuZFRpyLFJ29ewJzZqFIck5dy+XMq2wzT03A+cDrwMTCcnCA8WMYRTQ3cwuNLPmZjYaaAKMBTCzCWY2LK78XcAxZtbHzPYysz7A0YRhzP8V6xtzNjAu8YJm1sbMrjWz/c1sFzP7B/Ag8Iq7awxbOXLNB09Td91f/Lh9Iya0OinqcESkODIyQidagNGj4Ycfoo1Hiq2wScoZwEXufom7X0MYNXOamVUsagDu/iyh0+ogYA5wBHCCu/8SK9KEMIdJTvkZhA6vFwBfEpKmc9z9k4RTdyb0VZmYy2UzCU1A04BvgFuAhwFNL1qONFv2K91mvQbAzR0vZlNFDTkWKfNOOgmOPRY2bgz39ZEyrbB9UhoTJlsDwN0/NbPNwI4U45497n4/eYyscfcOuWx7Hnh+K+d8CHgoj32zAI0xLc/cuemth6icncWU3Q/l/V1bRR2RiCSDGYwZA/vsA6++CpMnh6RFyqTC1qRUBDYmbNtM0TvgikTi2O8+4vBf5pBZsTJDjuoedTgikkx77QVXXRXWr7km1KpImVTY5MKAx8wsM25bVWCsma3N2eDuZyQjOJGSkLEpk4HvhK5KDx5yBgtq5zXFjoiUWTfdFCZ3+/bb0D+lT5+oI5IiKGxNyuPAUv53UrMngd8StomkrMs+eYFGq5ayqEZdHjj07KjDEZGSUKsWjBgR1ocMgYWaf7MsKlRNirtfUFKBiJSGRn8tpscnoTvTsCMvYH2VqhFHJCIl5txz4aGH4MMP4frr4dlno45ICkl9SaT8cOfmtx6k6uaNfLjzvry21+FRRyQiW9G07+vFOr75Hufw2oyPqPjcc3Sxffmw6f6FPsf84ScWKwYpuqJOiy9S5nT64RM6/jiTjRUqMahTD92fR6QcmFdvVyYcGJKMm6eOpXLWpogjksJQkiLlQtVNG7jprTAifdwhp/FjncYRRyQipWV0uy78Ub02zVYs5ILPXok6HCkEJSlSLlz50XM0WrWUhTXrck+bzlGHIyKlaFXVbbm9w/kAXPPhRHZctTTagKTAlKRI2tt1+UIu+eRFAIZ0vFidZUXKoRdaHsWnjVqwTVytqqQ+JSmS3ty5eepYqmRv5t1dWzF59zZRRyQiEXCrwI3HXM6mChU59vuPOfr7xDupSCpSkiJp7ZR57/13Ztmbjr5MnWVFyrHv6jZl3MGnAzD4rbFU27gh4ohka5SkSNqqtX41A98OM8ve3bYzv27XcCtHiEi6u7ttZxbWrEejVX9wzYzc7j8rqURJiqStPu89Rt11f/F9ncY81Fp3ahARWF+lKoM6XQbARTMnsecf86MNSPKlJEXS0sEL5vJ/X0wGoP+xV7CpYuWIIxKRVPFOs0OYvPuhVM7O4rbJ92GeHXVIkgclKZJ2KmdtYujk+wCYuO8xzGzcMuKIRCTVDD76UtZUqcZBi+bRZc6bUYcjeVCSImnnkk9eZPflC/ijem2Gd9DtpkTk736vWZeRh58LQJ9pj1J/9bKII5LcKEmR9PLdd1w94xkAhnTszspqNSIOSERS1YQDT2R2wz2psXE9Q6aOBfeoQ5IESlIkfWRnQ/fuZGRt4v2mB/BK8/ZRRyQiKSy7QkX6Hn8VmypU5JjvP+a472ZEHZIkUJIi6ePBB2H6dNZWrkr/467UnCgislXf1m3K2NZnAXDL1LHU3LAm4ogknpIUSQ8LFkCfPgCMaN+NhbXqRxyQiJQV97Y9hx+334l6a/+k77RHow5H4ihJkbLPHXr0gNWroW1bnjjghKgjEpEyJLNSFfoddxUA//fFZNrOnxNxRJJDSYqUfRMnwuuvQ5UqMG4c2RUqRh2RiJQxnzZuyZP7Hw/A7W/eQ/WN6yOOSEBJipR1S5fC1VeH9YEDoXnzaOMRkTJrWIcLWFizLo1XLqHPe49FHY6gJEXKMne4/HJYvhz23RduuCHqiESkDFubUZ0+x18DQLdZr9P6168ijkiUpEjZ9cwz8MILUKkSPP54aO4RESmGD5vuz9P7HQvAiDfu0p2SI6YkRcqm33+HK64I6wMHwv77RxuPiKSNoUdexKIaddn5r8X0fn9C1OGUa0pSpOxxh0svhT//hAMOgH79oo5IRNLImozq9DvuSgDO//xVmDYt2oDKMSUpUvY88QS8+ipUrhyaeSrrDsciklzv79qKifseQwUczj8fVq2KOqRySUmKlC0LF24ZzXPzzbDPPtHGIyJp69ajuvNrrfrwyy/Qs2fU4ZRLSlKk7MjODt9oVq6Egw+G3r2jjkhE0tjajOpcf+K14RYbjz4KL78cdUjlTkokKWZ2uZn9bGYbzOxzMzt8K+XPNLNvzCwz9vP0hP2PmZknLB8nlMkws3vMbJmZrTWzV8ysUUk8P0mSu+6Ct9+G6tXhySfDqB4RkRI0s3FL6NUrPLj44jA3k5SayJMUMzsHGAPcBhwATAfeMLMmeZRvAzwLPAHsF/v5nJm1Tij6JtAwbkmcK30McDrQGWgHbAu8ZmaarjQVffUV9O0b1u+8E/bYI9p4RKT8GDIEWraEP/4Infbdo46o3Ig8SQGuA8a7+zh3n+fuPYEFQI88yvcEprr7MHf/j7sPA96ObY+X6e6L45YVOTvMrBZwEXC9u7/l7rOBrsA+wNFJfn5SXBs2QJcusHEjnHhieJMQESktGRmh9rZyZZg0CcaPjzqiciPSJMXMqgCtgCkJu6YAbfM4rE0u5SfnUr6DmS01s+/M7GEzqxe3rxVQOf487v4bMDev68aah2rmLECNfJ6aJNONN4aalLp1w5uDWdQRiUh5s99+cOutYf2aa+Dbb6ONp5yIuiZlB6AisCRh+xKgQR7HNChA+TeALsBRwPXAwcA7ZpYRd46N7v5nIa7bD1gZtyzMo5wk09tvw6hRYX3cOKhfP9p4RKT86tULjjoK1q2Df/4TMjOjjijtRZ2k5Ehs4LNcthW4vLs/6+6vu/tcd38VOB7YAzhxK3Hkd91hQK24RZ1sS9rSpdC1a2j/vfhiOOWUqCMSkfKsQgWYMAHq1IHZs0Mtr5SoqJOUZUAWf6+9qMffa0tyLC5kedz9d+AXYPe4c1Qxs+0Keh53z3T3VTkLsDqv60kS5Aw3Xrw43Nl4zJioIxIRgZ122tInZeRImDo12njSXKRJirtvBD4HOiXs6gTMyOOwj3Ipf0w+5TGzOkBj4PfYps+BTfHnMbOGQMv8ziOlaMwYeOMNqFoVnn02DDsWEUkFp54KPWJjO847T8OSS1DUNSkAo4DuZnahmTU3s9FAE2AsgJlNMLNhceXvAo4xsz5mtpeZ9SGMyBkTK7+tmY00szZm1tTMOgCvEmptXgJw95XAeOBOM+toZgcATwJfAW+VxpOWfHz22ZbhxqNHa1ZZEUk9I0dCixahtvfcc0PtryRd5EmKuz9LGD48CJgDHAGc4O6/xIo0IcxzklN+BmFukwuAL4HzgXPc/ZNYkSzCUOKXge+Ax2M/60QSwgAAGXBJREFU27h7fBPNtcAk4DngQ2AdcLK7ZyX/WUqBrVoFnTvDpk1w5pkabiwiqal69VDLW60aTJkCQ4dGHVFaSokpO939fuD+PPZ1yGXb88DzeZRfz/+3d+fxVVTnH8c/jxD2RVARFFGpCyplKW5QsLiAipbKoojUn4hLxWqFuoKCVFGoSMVdBKoVi2wuiBbBpWgruEERkEVRU0GLu6wSIHl+f5yJXi9JSCDJTJLv+/Wa172ZOTPz3OM1eThzFji1EPfcAlwZbZIEuR1kP/wQDjwQxo3TcGMRSa7mzeGBB+DCC+Hmm6F9e+jYMe6oypXYW1JEfnDvvTB1apjufvJkqJfer1lEJGH69g1bTk4Ylvx5vmM4ZBcoSZFkmD8frr46vB89Go4/Pt54REQK6777fuyf0qcPZKvXQHFRkiLx+/JLOOcc2L49vF6pJ3AiUobUrAnTpoV+Ki+/DMOGxR1RuaEkReKVnR3+5bFmDRx+eJhVVv1QRKSsOfJIePjh8H74cHj22XjjKSeUpEi8hg0LkyHVqAHTp0NtLYkkImVUnz4/tgSffz68/3688ZQDSlIkPk8++eOCXWPHhp7yIiJl2ejRYZTP+vXQrRts0OTku0NJisRj6VK44ILwfsCAsEaPiEhZl5ER+qc0agTLlkG/fmF6BdklSlKk9H3zTZhWetOmsKLoqFFxRyQiUnwaNgwtxRkZ4TH2yJFxR1RmKUmR0rV9e5hL4KOP4KCDwoyNlRMxp6CISPFp2xbuuSe8v/FGmDEj3njKKP11kCI76Ibnd/ncwa9M4NK357A5oyrdT7yaFXe+ufOT0mSOPGOX7y8iUmouuwwWL4YHHwydaufNgxYt4o6qTFFLipSa3ote4NK3nwbgmi4DWdHg4JgjEhEpYXffDSefHB5v//rXWjG5iJSkSKn4ZeYibp0Tlmca3b4P/2jWPuaIRERKQUZGWO7jkEPgk0+ge3fIyoo7qjJDSYqUuJ99tZoHnxlBZc/hqaNO5N5258YdkohI6alfH2bOhLp14fXXw0KqGvFTKEpSpETV37yOR6YPo07WJt5qfCQ3nPYHzSgrIhVPs2ahRaVSJZg4EYYOjTuiMkFJipSYatu2MO7JW2my7nP+u2dDftftRrZWzog7LBGReHTuHCauhDCR5bhx8cZTBihJkRJRKSebe5+9gzafreC7arXo1+Nmvq1RN+6wRETiddFFMGRIeN+/P8yaFW88CachyFL83Bk++346rXqLLZWrcFGPoXy49wFxRyUiUiKKPC2DH8vo5ifRY+krbPpNd845byTvNTxkl+9fnqdlUEuKFLuB/55E78VzyLY9+MOvr2VB4yPjDklEJDnMuOG0K/n3gS2puW0Lj04bxkHffBp3VImkJEWK1XmLZnHVvCcAGNrpMuYc1jbmiEREkmdbpQz6dxvMew2ass/m73h8yhAarv8q7rASR0mKFJuuy15l+OwwF8rd7Xrz99ZdYo5IRCS5NlStyQXn/ImP6u1H4/VfMHHqEOptXhd3WImiJEWKRacP3uAvz41mD5zHW53OXe3PizskEZHE+6pmPc7vNZz/1dqLQ79ezSPTh1Eza3PcYSWGkhTZbe0//g/3zRhJZc/hyaNOZEjn/poLRUSkkD6t24Dze93KN9Xr0Op/HzDuqeFU27Yl7rASQUmK7Jaj17zHuKeGUzV7O/84rB3XdRmAm75WIiJFsWrvJvQ9exgbq1Sn3SeLefip26i6fWvcYcVOf01kl/1izXIemTaM6tuz+GfTNlzV9Vqy96gUd1giImXS4kaH0ffsYWzKqMYJmf9h7FO3UWX7trjDipWSFNklbdYs47FpQ6m99XvmNWnBZWcNZlslzSYrIrI73ml8FBeePYzNGVXp+PECHnzm9gqdqChJkSI7ZvVSHps6lFpbv+f1A1vQr+dQsjKqxh2WiEi58NYBzbmox1C2VK7CyR++zf0zRlTYREVJihTNa6/x6LRh1Ny2hX8d2Cr8j5RRLe6oRETKlfkHtuTi7kPIqpRBp1VvMf7JWypkZ1olKVJ4c+bA6adTc9sWXjuoNRf3GKIERUSkhPz74NZc2PPmH/qo/G3qzdSqYMOTlaRI4UybBmeeCZs3M/fgNlzS/SY94hERKWHzDmrF+efcyvoqNThuzXs8PuUm6n6/Ie6wSk0ikhQzu9zMPjazLWa2wMw67KR8DzNbZmZZ0Wu3lGMZZvZnM1tiZpvM7DMze8zM9ku7RqaZedo2sqQ+Y5k2fjycey5s2wbnnMMlPZSgiIiUloWNj6B379ujeVTeZ/ITg2iw4eu4wyoVsScpZtYLGAPcBrQG/gXMMrMm+ZRvC0wBJgIto9epZnZcVKQG8Avg1ui1O3AY8GwelxsKNErZhhfPpypHRo2CSy6BnBy49FKYNEmjeEREStl7DQ+hV+8RfFGzHkd8mclTj19L06/XxB1WiYs9SQH+CExw9/HuvtzdBwCrgf75lB8AvOjuI9x9hbuPAF6O9uPu69y9k7tPdfeV7v4GcCXQJo/EZ4O7r03ZNpbMRyyDsrPhqqvguuvCz9dfDw89BJU0D4qISBw+2OdAevx21A9r/Uz/+3W0/nRF3GGVqFiTFDOrArQB5qQdmgO0y+e0tnmUn11AeYC6gAPfpe2/3sy+NrNFZnZjFE9+sVY1szq5G1C7gPuVbZs3Q8+ecM894ec77oCRIzXVvYhIzFbv2ZCevx3FokaHUv/79UyafCM891zcYZWYuFtS9gYqAZ+n7f8caJjPOQ2LUt7MqgEjgUnuvj7l0N3AucCJwH2ElpgHCoh1ELAuZSuf7WxffAEnnQTPPANVqsDkyXDttXFHJSIikW9q1KX3uSN4penRVN+eBb/5Ddx7L7jHHVqxiztJyZVes5bHviKXN7MMYDLhc17+kwu43+Xur7r7YncfD1wGXGRme+VzzxGEFpncrXEB8ZVNy5dD27bw5ptQvz68/DL06hV3VCIikub7KtW4tPtNTG7ROfQZ/MMf4Pe/DwMcypG4k5SvgGx2bAVpwI6tJbnWFqZ8lKBMBQ4GOqW1ouTljej1kLwOunuWu6/P3YDyNQZs5kw47jj46CNo2hTmzYP27eOOSkRE8rG9UmVuOO3K8EjeDB58ELp0gW+/jTu0YhNrkuLuW4EFQKe0Q52AefmcNj+P8p1Ty6ckKIcCp7h7YcZqtY5e/1eIsuWHO9x+e2gu3LABfvUreOMNOPzwuCMTEZGdMQuP5J95BmrWhJdeguOPDy3j5UDcLSkAfwEuNrN+ZnaEmd0FNAEeAojmOBmRUv5uoLOZXW9mzczseuAUwjBmzKwyMB04GugDVDKzhtFWJSrT1swGmlkrMzvYzM4BxgLPuvsnpfS547dpE/TuDTfeGJKVyy+HF1+EffaJOzIRESmKrl3h9dfhgAPg/ffh2GNh+vS4o9ptsScp7j6F0Gl1KLAIOAHo4u7/jYo0Icxhklt+HqHD64XAYqAv0Mvd34yKNAa6Rq+LCC0juVvuCKAsoBcwF1gG3AKMA3qXwEdMpuXLw+OdKVOgcmUYOxbuvx8yNAeKiEiZ1LIlvPMOdOwIGzfC2WeHaSS2b487sl1WOe4AANz9AfIZWePuHfPYN53QWpJX+UxCR9qC7rcQOL6ocZYbkyaFidk2bYKGDWHqVOhQ4CS/IiJSFjRoEFrEBw8Ok3GOGgVvvw1PPBF+35cxsbekSCnasgX694c+fUKCctJJsGiREhQRkfKkcuXQmXbaNKhVC+bODa0sL7wQd2RFpiSloliyJDyjfOih0NFqyJCwqvG++8YdmYiIlISePUMrSosWYQ6s00+Ha66BrVvjjqzQlKSUdzk5MGYMHHNMSFQaNIBZs+CWWzTFvYhIedesWZj76oorws+jR0O7drByZbxxFZKSlPLs00/htNNg4EDIyoIzzgiJyqmnxh2ZiIiUlmrVwoy0M2aEiToXLIBWrcI/YHNy4o6uQEpSyiN3mDABjjwydKCqXj1M8jNzZmhJERGRiqdrV3j3XejcOfRRHDgQTjwxTOKZUEpSypvMzPAFvPhiWL8+9ENZuBAuu0wLBIqIVHSNG4cOtA89FCZ/e+210GflnnsgOzvu6HagJKW8yMkJ85w0bx5mHKxWDe68M0xv36xZ3NGJiEhSmMHvfgeLF8MJJ4TRnlddFdZuW7Qo7uh+QklKeZGdDePHhy9bhw7hy3f11eocKyIieWvaFP75T3jgAahTJ4wEOvroMAJo06a4owOUpJQfGRnwyCNw331hTPyhh8YdkYiIJN0ee4T5s1asCDPUZmeHEUCHHx4m/nSPNbxEzDgrPzrohud39woweNZuXSFz5Bm7GYOIiJQpjRqF2ceffz4MV87MDBN/3n8/3H13aGGJgVpSREREJDjjjLC22223hY618+aFARj9+sHmzaUejpIUERER+VG1amHtn5Ur4fzzwyOfFSvCdBalTI97REREZEf77w+PPQaXXw41asQyjYWSFBEREcnf8cfHdms97hEREZFEUpIiIiIiiaQkRURERBJJSYqIiIgkkpIUERERSSQlKSIiIpJISlJEREQkkZSkiIiISCIpSREREZFEUpIiIiIiiaQkRURERBJJSYqIiIgkkpIUERERSSQlKSIiIpJISlJEREQkkZSkiIiISCIlIkkxs8vN7GMz22JmC8ysw07K9zCzZWaWFb12SztuZjbMzD4zs+/NbK6ZHZVWpp6ZTTSzddE20cz2LInPJyIiIkUXe5JiZr2AMcBtQGvgX8AsM2uST/m2wBRgItAyep1qZselFLsO+CNwBXAMsBZ40cxqp5SZBLQCTou2VtG1REREJAFiT1IIycQEdx/v7svdfQCwGuifT/kBwIvuPsLdV7j7CODlaD9mZtH729z9KXdfClwA1ADOi8ocQUhMLnb3+e4+H7gEONPMDi+5jyoiIiKFVTnOm5tZFaANMDLt0BygXT6ntQXuSts3myhJAQ4GGkbXAMDds8zs1eiaY6NrrHP3N1PKvGFm66IyK/OItSpQNWVXbYD169cX8AmLLidrc7Feb1fs7DPFHWPS44Pkx1iY723SY4w7Pkh+jPrvXDySHmNx/x0qDYWO2d1j24D9AAfape0fDKzM55ytwHlp+84DsqL37aJr7pdW5mFgdsr138/j2u8Dg/K577Doutq0adOmTZu24tn2LyhPiLUlJYWn/Wx57Ctq+Z2Vyev6Bd13BPCXtH31gW/yD1PyUBtYAzQGNsQcS1mlOiweqsfdpzrcfRW5DmsDnxVUIO4k5Ssgm/B4JlUD4PN8zlm7k/Jro9eGwP8KKLNvHtfeJ7/7unsWkJW2u+y1scUsdBkCYIO7q/52geqweKged5/qcPdV8Drc6eeNteOsu28FFgCd0g51Aublc9r8PMp3Tin/MSEJ+aFM1PflVyll5gN1zezYlDLHAXULuK+IiIiUorhbUiA8QploZu8QkodLgSbAQwBm9hjwqbsPisrfDbxmZtcDM4DfAKcA7QHc3c1sDDDYzD4APiD0QdlMGHaMuy83sxeAcWb2u+i6DwPPufsOnWZFRESk9MWepLj7FDPbCxgKNAKWAl3c/b9RkSZATkr5eWZ2LjAcuBX4EOiVOlIHuAOoDjwA1APeBDq7e+rzvj7APfw4CuhZwrwqUrKygD+x46MzKTzVYfFQPe4+1eHuUx0WwKKRKyIiIiKJkoTJ3ERERER2oCRFREREEklJioiIiCSSkhQRERFJJCUpUuzMrL+ZLTaz9dE238xOTyvT1sxeMbNNZvadmc01s+pxxZw0O6tDM2toZhPNbG1UhwvNrGecMSedmQ0ys9wpCnL3VTWze83sq6genzWzxnHGmXTp9Whm9aM6XGlmm83sEzO7x8zqxh1rUuX1XUw5ZmY2Kzp+VhzxJYmSFCkJa4AbgKOj7RVghpkdBSFBAV4gDP8+FjgGuI+UoeZScB0CE4HDga7Az4GngClm1jqGWBPPzI4hzMG0OO3QGKAbcC5hrqVawHNmVql0Iywb8qnH/aLtGsJ3sS9hlfkJpR1fWVDAdzHXAApeFqZiiXOBQW0VZyOscXRR9P4N4Na4YyprW1odbgTOTzv+de5xbT+pl1qExUNPAeYCY6L9dQkLlvZKKbsfYamOU+OOO2lbfvWYT9mzCfN+VI477iRtO6tDoCWwmrCsiwNnxR1z3JtaUqREmVmlaPK9msB8M2sAHAd8YWbzzOxzM3vVzNrHG2lypddhtPvfQK+oqX2P6HhVwi8++an7gefd/aW0/W2ADH6c0BF3/4wwoWS70guvzMivHvNSF1jv7ttLOKayJt86NLMawBPAFe6+doczK6jYZ5yV8snMfk74g1qN8K/+bu6+zMyOj4oMIzQPLwL+D3jZzJq7+wdxxJtE+dVhdLgXMIXQerKdsOxDN3f/MI5YkypK3n5BeKSYriGw1d2/Tdv/OTsuYlqh7aQe08vuBQwBxpZ0XGVJIerwLmCeu88ovaiST0mKlJSVQCtgT6AH8Dcz+xU/9oMa6+6PRO//Y2YnA/2AQTtcqeLKsw6jRGU4YcmHUwiriZ8FTDOzDu6+JK6Ak8TMDiCs9dXZ3bcU5VTUJ+AHRalHM6sDPA8sI0z1Luy8Ds2sK3ASoD5laTQtvpQKM3uJsM7SSOAjQn+Kx1OOTwG2u3ufmEJMvJQ6vANYBTR39/fSjq9y98tiCjFRopERTxP6mOSqREhAcoBTgZeA+qmtKWb2LvCMu99ciuEmViHqsaq7Z5tZbWA2oVXvzCImhuVaIerwQeD3/HTwQKXo53+5e8fSiTR51JIipcUIfSYygc8II1NSHQbMKuWYyprcOqwR/Zw+GiobjdhL9TJhtEmqR4AVwJ8JHRS3AZ2AqQBm1ghoDlxXemEmXoH1GCUodQgJShbQVQnKDnb2XfyKHR+PLQEGAjNLPLoEU5Iixc7MbickHKuB2oThnR2B09zdzWwU8KfoX6yLgAuAZoDm+YgUVIeEX2yrgLFmdg2hX8pZhD+2Z8YRbxJ5WPV8aeo+M9sEfO3uS6OfJwCjzexrwuipOwl/HArTObRC2Fk9Ri0ocwjJ82+BOlHSAvClu2dTwRXmuwisTTsO8Im7f1wqQSaUkhQpCfsS5vFoBKwjzAdwmru/CODuY8ysGqGjWH3gXaCTOn3+RIF1aGZdCI/OZhKGNa4CLnD3f8QTbpk1kNDxeCpQnfAv3r76w1okbQgj9iB8D1MdTGg9Fdkl6pMiIiIiiaTn1yIiIpJISlJEREQkkZSkiIiISCIpSREREZFEUpIiIiIiiaQkRURERBJJSYqIiIgkkpIUERERSSQlKSIieTCzNWZ2RdxxiFRkSlJEpNiYWQMzG2tmn5hZlpmtNbPZZtY2pYxHq8IW9dqZZjaggONVzOwrM7spn+ODouNVinpvEYmHkhQRKU5PAi0Ji0YeBnQF5hLWaCpR7r4VeBzoa9HqbGkuBCZG5USkDFCSIiLFwsz2BNoD17v7P939v+7+lruPcPfnozKZUfGnoxaVzGj/z8xshpl9bmYbzextMzsl5dpzgQOBu6Lz8lt0bALwM+CEtNg6AIdGxzGzQ83s2ZT7vWVmJxXw2Q6J7ts8Zd/e0b72Kfuam9ms6JprzexvZrZXoSpQRHagJEVEisvGaDvLzKrmU+aY6PVCwgrPuT/XAv4BnAK0BmYDM82sSXS8O7AGGBqd1yivi7v7EuDt6Pqp+gFvufvS6OfawHPAycAvCKsfP2dmjQv1SfNgZvsDrwLvEFYG7gI0Bp7Y1WuKVHRKUkSkWLj7dqAv4VHPd2b2upndbmYtUsp8Gb39zt3X5v7s7u+6+1h3X+LuH7j7TcBHhMdFuPs3QDawITpvbQGh/BXoaWa1AKLXs4laUaLrLXT3h919qbu/7+6DgNXAmbtRBb8H3nD3Ie6+0t0XAhcBncys6W5cV6TCUpIiIsXG3Z8E9iMkF7OBjsBCM+tb0HlmVtPM7jCzZWb2nZltBJoBTQo6Lx9PEH639Yp+7gUYMDnlfrXM7E4zW55yv0N28X652hASko25G5DbcvOz3biuSIVVOe4ARKR8cfctwIvRdouZjQf+BDxawGmjgFOBa4BVwPfAdKDII3HcfZ2ZTSc88pkQvU539/Upxf4CnAhcl3K/pwu4X070mtohNyOtzB7AM8DgPM7/rCifQUQCJSkiUtKWAalDjrcBldLKdAAedfen4YdHNAelldmax3n5mQDMNbMzgV+yY+LQAfhryv3qEDrm5ueL6LURsCR63yqtzELC46KP3T27kHGKSAH0uEdEioWZ7WVmr5jZb82shZkdbGZnE1orZqQUzQRONrOGZlYv2rcK6G5mrcysJTCJHX8/ZQInmNn+ZrZ3QbG4+6vRNR8DVrn7a2lFVgE9zKylmbWK7lfQ9TYSOsQOMrMjzKwjcEtasXuBfYFJZnZMNGLpVDN7tKBri0j+lKSISHHZCLwJDAReI/THuBUYB6TO3Ho10InQUfU/0b6BwLfAPGAmoT/LwrTrDyW0rnwIfMnO/RWoF72muyqKdz4hgXoOWLyT6/UFqgMLCI+LfjJpnLuvIbTaVCE86loCjAG+KUSsIpIHc89vugERERGR+KglRURERBJJSYqIiIgkkpIUERERSSQlKSIiIpJISlJEREQkkZSkiIiISCIpSREREZFEUpIiIiIiiaQkRURERBJJSYqIiIgkkpIUERERSaT/B4OG/jHw2HesAAAAAElFTkSuQmCC\n",
          "text/plain": "<Figure size 600x400 with 1 Axes>"
         },
         "metadata": {
          "needs_background": "light"
         },
         "output_type": "display_data"
        },
        {
         "name": "stdout",
         "output_type": "stream",
         "text": "At Level 24, Expected HP = 39\nWith Standard Deviation = 2\nAlec: Average Stats at Level 24:\nAverage HP = 39\nAverage STR = 5\nAverage MAG = 17\nAverage SKL = 17\nAverage SPD = 19\nAverage DEF = 8\nAverage RES = 25\nAverage LCK = 10\n"
        }
       ]
      }
     },
     "6e7693981bc24ab4afacfd07c1192e0a": {
      "model_module": "@jupyter-widgets/base",
      "model_module_version": "1.2.0",
      "model_name": "LayoutModel",
      "state": {}
     },
     "7345149bd91e4d07a37a0cb2639bc081": {
      "model_module": "@jupyter-widgets/controls",
      "model_module_version": "1.5.0",
      "model_name": "DescriptionStyleModel",
      "state": {
       "description_width": ""
      }
     },
     "7364262fec174fa8aed345df7119a61f": {
      "model_module": "@jupyter-widgets/controls",
      "model_module_version": "1.5.0",
      "model_name": "SliderStyleModel",
      "state": {
       "description_width": ""
      }
     },
     "7405c7ef82ed49038702623c43b9d181": {
      "model_module": "@jupyter-widgets/base",
      "model_module_version": "1.2.0",
      "model_name": "LayoutModel",
      "state": {}
     },
     "7409ede72777470896cb1e7b2b3cabb1": {
      "model_module": "@jupyter-widgets/controls",
      "model_module_version": "1.5.0",
      "model_name": "DropdownModel",
      "state": {
       "_options_labels": [
        "HP",
        "STR",
        "MAG",
        "SKL",
        "SPD",
        "DEF",
        "RES",
        "LCK"
       ],
       "description": "Stat",
       "index": 2,
       "layout": "IPY_MODEL_621184ebc7ee40ecbe78ca6983527afd",
       "style": "IPY_MODEL_ad1bfec96ab84194ad8b8cd916bc4f54"
      }
     },
     "7518e1e8e7ee4879b675f452b8cbfc6d": {
      "model_module": "@jupyter-widgets/base",
      "model_module_version": "1.2.0",
      "model_name": "LayoutModel",
      "state": {}
     },
     "7f9c15750e694c4d9f2cda506c1b3d8d": {
      "model_module": "@jupyter-widgets/controls",
      "model_module_version": "1.5.0",
      "model_name": "DescriptionStyleModel",
      "state": {
       "description_width": ""
      }
     },
     "7fba9a22fdd4456d8b6a5558d4259021": {
      "model_module": "@jupyter-widgets/controls",
      "model_module_version": "1.5.0",
      "model_name": "DropdownModel",
      "state": {
       "_options_labels": [
        "HP",
        "STR",
        "MAG",
        "SKL",
        "SPD",
        "DEF",
        "RES",
        "LCK"
       ],
       "description": "Stat",
       "index": 1,
       "layout": "IPY_MODEL_18bcd39805b449d481198ac54cc6f47f",
       "style": "IPY_MODEL_f5ad58e0d0dd4e338644934f450fded8"
      }
     },
     "8380a81388f44e4881b133ecaf13301b": {
      "model_module": "@jupyter-widgets/base",
      "model_module_version": "1.2.0",
      "model_name": "LayoutModel",
      "state": {}
     },
     "840f23a5ca8f44aba684cff8d420a58e": {
      "model_module": "@jupyter-widgets/base",
      "model_module_version": "1.2.0",
      "model_name": "LayoutModel",
      "state": {}
     },
     "8523557728d24906b37da3f925b5fd94": {
      "model_module": "@jupyter-widgets/controls",
      "model_module_version": "1.5.0",
      "model_name": "VBoxModel",
      "state": {
       "_dom_classes": [
        "widget-interact"
       ],
       "children": [
        "IPY_MODEL_0463f57847f742d4a1b70353edb962c8",
        "IPY_MODEL_857e06eb688343ada30258c1ea43e627"
       ],
       "layout": "IPY_MODEL_3f519af84bc4456cab18c16e4605d337"
      }
     },
     "857e06eb688343ada30258c1ea43e627": {
      "model_module": "@jupyter-widgets/output",
      "model_module_version": "1.0.0",
      "model_name": "OutputModel",
      "state": {
       "layout": "IPY_MODEL_f2b5b012b7104113a0bec008718793a5",
       "outputs": [
        {
         "data": {
          "image/png": "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\n",
          "text/plain": "<Figure size 600x400 with 1 Axes>"
         },
         "metadata": {
          "needs_background": "light"
         },
         "output_type": "display_data"
        },
        {
         "name": "stdout",
         "output_type": "stream",
         "text": "At Level 30, Expected MAG = 5\nWith Standard Deviation = 1\nHolyn: Average Stats at Level 30:\nAverage HP = 51\nAverage STR = 19\nAverage MAG = 5\nAverage SKL = 20\nAverage SPD = 11\nAverage DEF = 10\nAverage RES = 9\nAverage LCK = 12\n"
        }
       ]
      }
     },
     "882c9452508d465e92b507e106014695": {
      "model_module": "@jupyter-widgets/controls",
      "model_module_version": "1.5.0",
      "model_name": "VBoxModel",
      "state": {
       "_dom_classes": [
        "widget-interact"
       ],
       "children": [
        "IPY_MODEL_b464af5615074797924afd3a4bd5327e",
        "IPY_MODEL_4f89b0d328404efca272df7e91175753"
       ],
       "layout": "IPY_MODEL_6e7693981bc24ab4afacfd07c1192e0a"
      }
     },
     "885dd74358e2459ba32fd7024f5ae666": {
      "model_module": "@jupyter-widgets/base",
      "model_module_version": "1.2.0",
      "model_name": "LayoutModel",
      "state": {}
     },
     "8a3e1bd18eb14fa295fac97ebd79ff3e": {
      "model_module": "@jupyter-widgets/base",
      "model_module_version": "1.2.0",
      "model_name": "LayoutModel",
      "state": {}
     },
     "8d674e32785a48f99631a5b5187e3959": {
      "model_module": "@jupyter-widgets/controls",
      "model_module_version": "1.5.0",
      "model_name": "SliderStyleModel",
      "state": {
       "description_width": ""
      }
     },
     "8eaeefb499c343778cfde16722dec7f0": {
      "model_module": "@jupyter-widgets/controls",
      "model_module_version": "1.5.0",
      "model_name": "IntSliderModel",
      "state": {
       "description": "Level",
       "layout": "IPY_MODEL_3f9975c346f34be7937d06db16ab3a52",
       "max": 30,
       "min": 5,
       "style": "IPY_MODEL_5f547139ef1c442289711c0fca253ff6",
       "value": 20
      }
     },
     "8f38c77ae4ed440eb5021acbbd15950e": {
      "model_module": "@jupyter-widgets/output",
      "model_module_version": "1.0.0",
      "model_name": "OutputModel",
      "state": {
       "layout": "IPY_MODEL_7405c7ef82ed49038702623c43b9d181",
       "outputs": [
        {
         "data": {
          "application/vnd.jupyter.widget-view+json": {
           "model_id": "e3f596f1aa4b4c50b3dc5eab87662aa7",
           "version_major": 2,
           "version_minor": 0
          },
          "text/plain": "interactive(children=(Dropdown(description='Stat', options=(('HP', 0), ('STR', 1), ('MAG', 2), ('SKL', 3), ('S…"
         },
         "metadata": {},
         "output_type": "display_data"
        }
       ]
      }
     },
     "90f936282f43485a83af77367b5986bd": {
      "model_module": "@jupyter-widgets/controls",
      "model_module_version": "1.5.0",
      "model_name": "VBoxModel",
      "state": {
       "_dom_classes": [
        "widget-interact"
       ],
       "children": [
        "IPY_MODEL_e50310c3ed414ddfbf29ba86f7222ada",
        "IPY_MODEL_8f38c77ae4ed440eb5021acbbd15950e"
       ],
       "layout": "IPY_MODEL_ff431ba6fe5541529509df36e8dc9a4d"
      }
     },
     "91d74523e56f48b3aa5073052eeae7c6": {
      "model_module": "@jupyter-widgets/base",
      "model_module_version": "1.2.0",
      "model_name": "LayoutModel",
      "state": {}
     },
     "92d4c3557e60430ab3626f8c20d12bc1": {
      "model_module": "@jupyter-widgets/controls",
      "model_module_version": "1.5.0",
      "model_name": "VBoxModel",
      "state": {
       "_dom_classes": [
        "widget-interact"
       ],
       "children": [
        "IPY_MODEL_9ec5b017633a417a9d9bfe31d5c3bee8",
        "IPY_MODEL_baa76f957a754a4cb9cdc31676fc26ae"
       ],
       "layout": "IPY_MODEL_9f5d72cbd6c5409d9d56a57c5e453bf1"
      }
     },
     "9868121ce890468ebf2928e8718d2c8e": {
      "model_module": "@jupyter-widgets/output",
      "model_module_version": "1.0.0",
      "model_name": "OutputModel",
      "state": {
       "layout": "IPY_MODEL_885dd74358e2459ba32fd7024f5ae666",
       "outputs": [
        {
         "data": {
          "image/png": "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\n",
          "text/plain": "<Figure size 600x400 with 1 Axes>"
         },
         "metadata": {
          "needs_background": "light"
         },
         "output_type": "display_data"
        },
        {
         "name": "stdout",
         "output_type": "stream",
         "text": "At Level 20, Expected STR = 12\nWith Standard Deviation = 2\nAzel: Average Stats at Level 20:\nAverage HP = 39\nAverage STR = 12\nAverage MAG = 0\nAverage SKL = 13\nAverage SPD = 12\nAverage DEF = 7\nAverage RES = 8\nAverage LCK = 10\n"
        }
       ]
      }
     },
     "9897859bea2e46d7952c42a17ebfa470": {
      "model_module": "@jupyter-widgets/controls",
      "model_module_version": "1.5.0",
      "model_name": "DropdownModel",
      "state": {
       "_options_labels": [
        "HP",
        "STR",
        "MAG",
        "SKL",
        "SPD",
        "DEF",
        "RES",
        "LCK"
       ],
       "description": "Stat",
       "index": 0,
       "layout": "IPY_MODEL_e40ddc80044140fbbac7a2d48198dabc",
       "style": "IPY_MODEL_b1aea0265637426c82809903a2813c8a"
      }
     },
     "996b9d08ddae48ccab3e5a7a81e8dde1": {
      "model_module": "@jupyter-widgets/base",
      "model_module_version": "1.2.0",
      "model_name": "LayoutModel",
      "state": {}
     },
     "9a2fcad46c944014ba74326e46f73ad4": {
      "model_module": "@jupyter-widgets/output",
      "model_module_version": "1.0.0",
      "model_name": "OutputModel",
      "state": {
       "layout": "IPY_MODEL_5a070375c6ac4f0480ad1253f671e409",
       "outputs": [
        {
         "data": {
          "application/vnd.jupyter.widget-view+json": {
           "model_id": "2e1a56bd5301410aa01e6ccf4db004d5",
           "version_major": 2,
           "version_minor": 0
          },
          "text/plain": "interactive(children=(IntSlider(value=5, description='Level', max=30, min=5), Output()), _dom_classes=('widget…"
         },
         "metadata": {},
         "output_type": "display_data"
        }
       ]
      }
     },
     "9b9ca59839ec4618b2bc7a81de3ce42f": {
      "model_module": "@jupyter-widgets/output",
      "model_module_version": "1.0.0",
      "model_name": "OutputModel",
      "state": {
       "layout": "IPY_MODEL_2f2204b2b94b4d01994dcb3cebb55a16",
       "outputs": [
        {
         "data": {
          "application/vnd.jupyter.widget-view+json": {
           "model_id": "acd5226772614adeb4ac39242f8e90fc",
           "version_major": 2,
           "version_minor": 0
          },
          "text/plain": "interactive(children=(IntSlider(value=2, description='Level', max=30, min=2), Output()), _dom_classes=('widget…"
         },
         "metadata": {},
         "output_type": "display_data"
        }
       ]
      }
     },
     "9e63f7717f194044998688261487df97": {
      "model_module": "@jupyter-widgets/base",
      "model_module_version": "1.2.0",
      "model_name": "LayoutModel",
      "state": {}
     },
     "9ec5b017633a417a9d9bfe31d5c3bee8": {
      "model_module": "@jupyter-widgets/controls",
      "model_module_version": "1.5.0",
      "model_name": "DropdownModel",
      "state": {
       "_options_labels": [
        "HP",
        "STR",
        "MAG",
        "SKL",
        "SPD",
        "DEF",
        "RES",
        "LCK"
       ],
       "description": "Stat",
       "index": 0,
       "layout": "IPY_MODEL_f883dcfa44c74462a3e61026216e7ee9",
       "style": "IPY_MODEL_c62e4c97fb0247cda62b87c81680190e"
      }
     },
     "9f5d72cbd6c5409d9d56a57c5e453bf1": {
      "model_module": "@jupyter-widgets/base",
      "model_module_version": "1.2.0",
      "model_name": "LayoutModel",
      "state": {}
     },
     "9fbf270f22604f04bbcfbbe98690871c": {
      "model_module": "@jupyter-widgets/controls",
      "model_module_version": "1.5.0",
      "model_name": "DescriptionStyleModel",
      "state": {
       "description_width": ""
      }
     },
     "a023f9a3f9b342dabcb31fbdbbe1dbeb": {
      "model_module": "@jupyter-widgets/controls",
      "model_module_version": "1.5.0",
      "model_name": "SliderStyleModel",
      "state": {
       "description_width": ""
      }
     },
     "a0997c53a5b648ff848044068086ce1f": {
      "model_module": "@jupyter-widgets/controls",
      "model_module_version": "1.5.0",
      "model_name": "VBoxModel",
      "state": {
       "_dom_classes": [
        "widget-interact"
       ],
       "children": [
        "IPY_MODEL_a8497d5469c74ce9864de7fdb5f7b425",
        "IPY_MODEL_3a53995915a643a29ad374e3979efb52"
       ],
       "layout": "IPY_MODEL_7518e1e8e7ee4879b675f452b8cbfc6d"
      }
     },
     "a160876bf921405c81964df4b987091c": {
      "model_module": "@jupyter-widgets/controls",
      "model_module_version": "1.5.0",
      "model_name": "DropdownModel",
      "state": {
       "_options_labels": [
        "HP",
        "STR",
        "MAG",
        "SKL",
        "SPD",
        "DEF",
        "RES",
        "LCK"
       ],
       "description": "Stat",
       "index": 2,
       "layout": "IPY_MODEL_9e63f7717f194044998688261487df97",
       "style": "IPY_MODEL_7345149bd91e4d07a37a0cb2639bc081"
      }
     },
     "a2e48c4a87214239a04bbdc226c2ffec": {
      "model_module": "@jupyter-widgets/controls",
      "model_module_version": "1.5.0",
      "model_name": "VBoxModel",
      "state": {
       "_dom_classes": [
        "widget-interact"
       ],
       "children": [
        "IPY_MODEL_a5d11b4d36c54916b35798fbfc3f9ca1",
        "IPY_MODEL_ffe85bfafafd4ab0b63a125c28fb36d7"
       ],
       "layout": "IPY_MODEL_2f4315b5235842498711abc098c898b0"
      }
     },
     "a420dad2520f4ba78c32e2f9d5ba9767": {
      "model_module": "@jupyter-widgets/controls",
      "model_module_version": "1.5.0",
      "model_name": "DropdownModel",
      "state": {
       "_options_labels": [
        "Alec",
        "Arden",
        "Ayra",
        "Azel",
        "Beowulf",
        "Brigid",
        "Holyn",
        "Claude",
        "Dew",
        "Aideen",
        "Ferry",
        "Jamke",
        "Lachesis",
        "Ethlyn",
        "Finn",
        "Levin",
        "Lex",
        "Midir",
        "Noish",
        "Quan",
        "Sigurd",
        "Silvia",
        "Tiltyu",
        "Dierdre"
       ],
       "description": "Name",
       "index": 2,
       "layout": "IPY_MODEL_ea7a29e76ba94f42abadd4532bec30b7",
       "style": "IPY_MODEL_d47cd4d6778348a2976546196e254d00"
      }
     },
     "a5d11b4d36c54916b35798fbfc3f9ca1": {
      "model_module": "@jupyter-widgets/controls",
      "model_module_version": "1.5.0",
      "model_name": "DropdownModel",
      "state": {
       "_options_labels": [
        "HP",
        "STR",
        "MAG",
        "SKL",
        "SPD",
        "DEF",
        "RES",
        "LCK"
       ],
       "description": "Stat",
       "index": 1,
       "layout": "IPY_MODEL_6a0cd7a1de564cb79583b5ed7bc48ceb",
       "style": "IPY_MODEL_7f9c15750e694c4d9f2cda506c1b3d8d"
      }
     },
     "a68969f62df44244b5435db73280f947": {
      "model_module": "@jupyter-widgets/controls",
      "model_module_version": "1.5.0",
      "model_name": "VBoxModel",
      "state": {
       "_dom_classes": [
        "widget-interact"
       ],
       "children": [
        "IPY_MODEL_544fdac52f3146fdbcf24522450c2074",
        "IPY_MODEL_cbc0d77faf5646d9bd5c2b07443aff74"
       ],
       "layout": "IPY_MODEL_035208e56bc342c8a2e9a378679c4b17"
      }
     },
     "a8497d5469c74ce9864de7fdb5f7b425": {
      "model_module": "@jupyter-widgets/controls",
      "model_module_version": "1.5.0",
      "model_name": "IntSliderModel",
      "state": {
       "description": "Level",
       "layout": "IPY_MODEL_0e6617c9d63d4f8a97c04da125e27e06",
       "max": 30,
       "min": 3,
       "style": "IPY_MODEL_a9a10fc4f01a46b984173649bc855f41",
       "value": 30
      }
     },
     "a9a10fc4f01a46b984173649bc855f41": {
      "model_module": "@jupyter-widgets/controls",
      "model_module_version": "1.5.0",
      "model_name": "SliderStyleModel",
      "state": {
       "description_width": ""
      }
     },
     "ab2b0979cc6045519b0e491461574cc0": {
      "model_module": "@jupyter-widgets/output",
      "model_module_version": "1.0.0",
      "model_name": "OutputModel",
      "state": {
       "layout": "IPY_MODEL_026b62b5d60a432889ed476e51bb838a",
       "outputs": [
        {
         "data": {
          "application/vnd.jupyter.widget-view+json": {
           "model_id": "8523557728d24906b37da3f925b5fd94",
           "version_major": 2,
           "version_minor": 0
          },
          "text/plain": "interactive(children=(IntSlider(value=13, description='Level', max=30, min=13), Output()), _dom_classes=('widg…"
         },
         "metadata": {},
         "output_type": "display_data"
        }
       ]
      }
     },
     "ac21b5930c5e4acab0eff09ab7f2d562": {
      "model_module": "@jupyter-widgets/base",
      "model_module_version": "1.2.0",
      "model_name": "LayoutModel",
      "state": {}
     },
     "ac48ef5445d8436d981c23c8dcd068ad": {
      "model_module": "@jupyter-widgets/controls",
      "model_module_version": "1.5.0",
      "model_name": "VBoxModel",
      "state": {
       "_dom_classes": [
        "widget-interact"
       ],
       "children": [
        "IPY_MODEL_29144a4d92c042559f32da79dbe8e6d7",
        "IPY_MODEL_9868121ce890468ebf2928e8718d2c8e"
       ],
       "layout": "IPY_MODEL_582c47d1c23b453da11bc4d350a7da22"
      }
     },
     "acd5226772614adeb4ac39242f8e90fc": {
      "model_module": "@jupyter-widgets/controls",
      "model_module_version": "1.5.0",
      "model_name": "VBoxModel",
      "state": {
       "_dom_classes": [
        "widget-interact"
       ],
       "children": [
        "IPY_MODEL_483fa443c33a4cb78558b12b491c98e6",
        "IPY_MODEL_ed28477179b047db84daa06a901f7286"
       ],
       "layout": "IPY_MODEL_fc8c3971950a4153823acfd6cb2c697e"
      }
     },
     "ad1bfec96ab84194ad8b8cd916bc4f54": {
      "model_module": "@jupyter-widgets/controls",
      "model_module_version": "1.5.0",
      "model_name": "DescriptionStyleModel",
      "state": {
       "description_width": ""
      }
     },
     "ae2e62f5b2d049d2a4dfd42d98a83066": {
      "model_module": "@jupyter-widgets/output",
      "model_module_version": "1.0.0",
      "model_name": "OutputModel",
      "state": {
       "layout": "IPY_MODEL_fc0e988314494d288d6890a983f5a70f",
       "outputs": [
        {
         "data": {
          "image/png": "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\n",
          "text/plain": "<Figure size 600x400 with 1 Axes>"
         },
         "metadata": {
          "needs_background": "light"
         },
         "output_type": "display_data"
        },
        {
         "name": "stdout",
         "output_type": "stream",
         "text": "At Level 20, Expected STR = 2\nWith Standard Deviation = 1\nAyra: Average Stats at Level 20:\nAverage HP = 36\nAverage STR = 2\nAverage MAG = 23\nAverage SKL = 16\nAverage SPD = 14\nAverage DEF = 10\nAverage RES = 16\nAverage LCK = 14\n"
        }
       ]
      }
     },
     "af371aacc33e415d931da5789ae63660": {
      "model_module": "@jupyter-widgets/controls",
      "model_module_version": "1.5.0",
      "model_name": "IntSliderModel",
      "state": {
       "description": "Level",
       "layout": "IPY_MODEL_91d74523e56f48b3aa5073052eeae7c6",
       "max": 30,
       "min": 2,
       "style": "IPY_MODEL_b7110357731a43dfb132ad9436ee2ac3",
       "value": 2
      }
     },
     "b1aea0265637426c82809903a2813c8a": {
      "model_module": "@jupyter-widgets/controls",
      "model_module_version": "1.5.0",
      "model_name": "DescriptionStyleModel",
      "state": {
       "description_width": ""
      }
     },
     "b464af5615074797924afd3a4bd5327e": {
      "model_module": "@jupyter-widgets/controls",
      "model_module_version": "1.5.0",
      "model_name": "IntSliderModel",
      "state": {
       "description": "Level",
       "layout": "IPY_MODEL_48bf1f945f8c43eeab9bb98c53ac4a83",
       "max": 30,
       "min": 2,
       "style": "IPY_MODEL_06caee7ee6814a309e19e6d60aa1e9d9",
       "value": 2
      }
     },
     "b7110357731a43dfb132ad9436ee2ac3": {
      "model_module": "@jupyter-widgets/controls",
      "model_module_version": "1.5.0",
      "model_name": "SliderStyleModel",
      "state": {
       "description_width": ""
      }
     },
     "baa76f957a754a4cb9cdc31676fc26ae": {
      "model_module": "@jupyter-widgets/output",
      "model_module_version": "1.0.0",
      "model_name": "OutputModel",
      "state": {
       "layout": "IPY_MODEL_d039cce266fb433eafee45fc5d7a4818",
       "outputs": [
        {
         "data": {
          "application/vnd.jupyter.widget-view+json": {
           "model_id": "a68969f62df44244b5435db73280f947",
           "version_major": 2,
           "version_minor": 0
          },
          "text/plain": "interactive(children=(IntSlider(value=3, description='Level', max=30, min=3), Output()), _dom_classes=('widget…"
         },
         "metadata": {},
         "output_type": "display_data"
        }
       ]
      }
     },
     "bd214aef5b174c94b57def8a8d934436": {
      "model_module": "@jupyter-widgets/output",
      "model_module_version": "1.0.0",
      "model_name": "OutputModel",
      "state": {
       "layout": "IPY_MODEL_4e73c29315684c32a1992ae5fb77567b",
       "outputs": [
        {
         "data": {
          "application/vnd.jupyter.widget-view+json": {
           "model_id": "a0997c53a5b648ff848044068086ce1f",
           "version_major": 2,
           "version_minor": 0
          },
          "text/plain": "interactive(children=(IntSlider(value=3, description='Level', max=30, min=3), Output()), _dom_classes=('widget…"
         },
         "metadata": {},
         "output_type": "display_data"
        }
       ]
      }
     },
     "bd2b7377c0c54a9184e4dbdd66e3b1e0": {
      "model_module": "@jupyter-widgets/base",
      "model_module_version": "1.2.0",
      "model_name": "LayoutModel",
      "state": {}
     },
     "bdee7b00c73f4f54a319952a63deb7ff": {
      "model_module": "@jupyter-widgets/controls",
      "model_module_version": "1.5.0",
      "model_name": "VBoxModel",
      "state": {
       "_dom_classes": [
        "widget-interact"
       ],
       "children": [
        "IPY_MODEL_e637addffd0d40cf870a2a4cd5eb5731",
        "IPY_MODEL_6c0fecb7ea4f4a5b9aa69d0bf1a10167"
       ],
       "layout": "IPY_MODEL_e491d0b475e3463a86613385390bebbd"
      }
     },
     "bea4ba260a074768a9a74c64a3bcb9dd": {
      "model_module": "@jupyter-widgets/base",
      "model_module_version": "1.2.0",
      "model_name": "LayoutModel",
      "state": {}
     },
     "c23671d0935f4fef8c42790c9c51059d": {
      "model_module": "@jupyter-widgets/controls",
      "model_module_version": "1.5.0",
      "model_name": "VBoxModel",
      "state": {
       "_dom_classes": [
        "widget-interact"
       ],
       "children": [
        "IPY_MODEL_34cf474f6ebf413cb91f4096903647c1",
        "IPY_MODEL_5863cedc3a8c431e9c3440e6cc817001"
       ],
       "layout": "IPY_MODEL_ef392b15577645d38c8473293d7329af"
      }
     },
     "c62e4c97fb0247cda62b87c81680190e": {
      "model_module": "@jupyter-widgets/controls",
      "model_module_version": "1.5.0",
      "model_name": "DescriptionStyleModel",
      "state": {
       "description_width": ""
      }
     },
     "cbc0d77faf5646d9bd5c2b07443aff74": {
      "model_module": "@jupyter-widgets/output",
      "model_module_version": "1.0.0",
      "model_name": "OutputModel",
      "state": {
       "layout": "IPY_MODEL_e5fab7576c6f449393f3bb1251226559",
       "outputs": [
        {
         "data": {
          "image/png": "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\n",
          "text/plain": "<Figure size 600x400 with 1 Axes>"
         },
         "metadata": {
          "needs_background": "light"
         },
         "output_type": "display_data"
        },
        {
         "name": "stdout",
         "output_type": "stream",
         "text": "At Level 23, Expected HP = 39\nWith Standard Deviation = 2\nAlec: Average Stats at Level 23:\nAverage HP = 39\nAverage STR = 5\nAverage MAG = 17\nAverage SKL = 17\nAverage SPD = 19\nAverage DEF = 8\nAverage RES = 24\nAverage LCK = 10\n"
        }
       ]
      }
     },
     "cc0d0e3a10ec4a6e912c716ebef5195b": {
      "model_module": "@jupyter-widgets/base",
      "model_module_version": "1.2.0",
      "model_name": "LayoutModel",
      "state": {}
     },
     "ce869bb12d2b4e0ca412ee7771070d0b": {
      "model_module": "@jupyter-widgets/controls",
      "model_module_version": "1.5.0",
      "model_name": "VBoxModel",
      "state": {
       "_dom_classes": [
        "widget-interact"
       ],
       "children": [
        "IPY_MODEL_8eaeefb499c343778cfde16722dec7f0",
        "IPY_MODEL_ae2e62f5b2d049d2a4dfd42d98a83066"
       ],
       "layout": "IPY_MODEL_29695541cd79470b90106cab31ae43bb"
      }
     },
     "d028cf039b9d48d5bbb921a9d0789da3": {
      "model_module": "@jupyter-widgets/base",
      "model_module_version": "1.2.0",
      "model_name": "LayoutModel",
      "state": {}
     },
     "d039cce266fb433eafee45fc5d7a4818": {
      "model_module": "@jupyter-widgets/base",
      "model_module_version": "1.2.0",
      "model_name": "LayoutModel",
      "state": {}
     },
     "d47cd4d6778348a2976546196e254d00": {
      "model_module": "@jupyter-widgets/controls",
      "model_module_version": "1.5.0",
      "model_name": "DescriptionStyleModel",
      "state": {
       "description_width": ""
      }
     },
     "d4cb21ab0a874d368486b777435bda51": {
      "model_module": "@jupyter-widgets/base",
      "model_module_version": "1.2.0",
      "model_name": "LayoutModel",
      "state": {}
     },
     "d65dee5260c24b958d6d16db1ac88d25": {
      "model_module": "@jupyter-widgets/controls",
      "model_module_version": "1.5.0",
      "model_name": "DropdownModel",
      "state": {
       "_options_labels": [
        "HP",
        "STR",
        "MAG",
        "SKL",
        "SPD",
        "DEF",
        "RES",
        "LCK"
       ],
       "description": "Stat",
       "index": 0,
       "layout": "IPY_MODEL_8380a81388f44e4881b133ecaf13301b",
       "style": "IPY_MODEL_f38673c967e24725b9f4bbcbc71b6e69"
      }
     },
     "d6a1c3f55aba4b558defb9bea42162e0": {
      "model_module": "@jupyter-widgets/base",
      "model_module_version": "1.2.0",
      "model_name": "LayoutModel",
      "state": {}
     },
     "daa026e188494aa4be940ca277a989ec": {
      "model_module": "@jupyter-widgets/controls",
      "model_module_version": "1.5.0",
      "model_name": "VBoxModel",
      "state": {
       "_dom_classes": [
        "widget-interact"
       ],
       "children": [
        "IPY_MODEL_a160876bf921405c81964df4b987091c",
        "IPY_MODEL_ab2b0979cc6045519b0e491461574cc0"
       ],
       "layout": "IPY_MODEL_ff375f7adee9413890f0bec8a0d93b00"
      }
     },
     "dc7cffa804f3475ba477db04fa913c5e": {
      "model_module": "@jupyter-widgets/base",
      "model_module_version": "1.2.0",
      "model_name": "LayoutModel",
      "state": {}
     },
     "dd4a06f8a69f41b6810a0fc6467dd3fe": {
      "model_module": "@jupyter-widgets/base",
      "model_module_version": "1.2.0",
      "model_name": "LayoutModel",
      "state": {}
     },
     "ddbc8891a14c4874b6cff32efbe2d979": {
      "model_module": "@jupyter-widgets/controls",
      "model_module_version": "1.5.0",
      "model_name": "VBoxModel",
      "state": {
       "_dom_classes": [
        "widget-interact"
       ],
       "children": [
        "IPY_MODEL_325507a23ea4418d8338170c65b6f787",
        "IPY_MODEL_0b9817751d7a48b681f80bbaa8aca6e7"
       ],
       "layout": "IPY_MODEL_e2fb0af64ca041508e97327ad4a42866"
      }
     },
     "de100ed0fe2d45ac91c03971a8b3ca26": {
      "model_module": "@jupyter-widgets/base",
      "model_module_version": "1.2.0",
      "model_name": "LayoutModel",
      "state": {}
     },
     "e0b7977e5aab47868d46c6a6bb7b8629": {
      "model_module": "@jupyter-widgets/controls",
      "model_module_version": "1.5.0",
      "model_name": "DropdownModel",
      "state": {
       "_options_labels": [
        "Alec",
        "Arden",
        "Ayra",
        "Azel",
        "Beowulf",
        "Brigid",
        "Holyn",
        "Claude",
        "Dew",
        "Aideen",
        "Ferry",
        "Jamke",
        "Lachesis",
        "Ethlyn",
        "Finn",
        "Levin",
        "Lex",
        "Midir",
        "Noish",
        "Quan",
        "Sigurd",
        "Silvia",
        "Tiltyu",
        "Dierdre"
       ],
       "description": "Name",
       "index": 0,
       "layout": "IPY_MODEL_dd4a06f8a69f41b6810a0fc6467dd3fe",
       "style": "IPY_MODEL_9fbf270f22604f04bbcfbbe98690871c"
      }
     },
     "e29b2f0623b04f8a93b9b1966df12d25": {
      "model_module": "@jupyter-widgets/output",
      "model_module_version": "1.0.0",
      "model_name": "OutputModel",
      "state": {
       "layout": "IPY_MODEL_996b9d08ddae48ccab3e5a7a81e8dde1",
       "outputs": [
        {
         "data": {
          "application/vnd.jupyter.widget-view+json": {
           "model_id": "41377fe9862f4c9ba66a1c032ce14162",
           "version_major": 2,
           "version_minor": 0
          },
          "text/plain": "interactive(children=(Dropdown(description='Stat', options=(('HP', 0), ('STR', 1), ('MAG', 2), ('SKL', 3), ('S…"
         },
         "metadata": {},
         "output_type": "display_data"
        }
       ]
      }
     },
     "e2fb0af64ca041508e97327ad4a42866": {
      "model_module": "@jupyter-widgets/base",
      "model_module_version": "1.2.0",
      "model_name": "LayoutModel",
      "state": {}
     },
     "e30f1c2bbf57467a88c0dad4568d2727": {
      "model_module": "@jupyter-widgets/base",
      "model_module_version": "1.2.0",
      "model_name": "LayoutModel",
      "state": {}
     },
     "e3f596f1aa4b4c50b3dc5eab87662aa7": {
      "model_module": "@jupyter-widgets/controls",
      "model_module_version": "1.5.0",
      "model_name": "VBoxModel",
      "state": {
       "_dom_classes": [
        "widget-interact"
       ],
       "children": [
        "IPY_MODEL_3195272d454544ae8de3f60fd52e71dd",
        "IPY_MODEL_31d94de0feb843f391befafdd73b6fbb"
       ],
       "layout": "IPY_MODEL_cc0d0e3a10ec4a6e912c716ebef5195b"
      }
     },
     "e40ddc80044140fbbac7a2d48198dabc": {
      "model_module": "@jupyter-widgets/base",
      "model_module_version": "1.2.0",
      "model_name": "LayoutModel",
      "state": {}
     },
     "e491d0b475e3463a86613385390bebbd": {
      "model_module": "@jupyter-widgets/base",
      "model_module_version": "1.2.0",
      "model_name": "LayoutModel",
      "state": {}
     },
     "e50310c3ed414ddfbf29ba86f7222ada": {
      "model_module": "@jupyter-widgets/controls",
      "model_module_version": "1.5.0",
      "model_name": "DropdownModel",
      "state": {
       "_options_labels": [
        "Alec",
        "Arden",
        "Ayra",
        "Azel",
        "Beowulf",
        "Brigid",
        "Holyn",
        "Claude",
        "Dew",
        "Aideen",
        "Ferry",
        "Jamke",
        "Lachesis",
        "Ethlyn",
        "Finn",
        "Levin",
        "Lex",
        "Midir",
        "Noish",
        "Quan",
        "Sigurd",
        "Silvia",
        "Tiltyu",
        "Dierdre"
       ],
       "description": "Name",
       "index": 0,
       "layout": "IPY_MODEL_625be72ee9744f35ba89c23c32527b68",
       "style": "IPY_MODEL_2fd29fdc6fb84841bdfd2fd8126b711a"
      }
     },
     "e5fab7576c6f449393f3bb1251226559": {
      "model_module": "@jupyter-widgets/base",
      "model_module_version": "1.2.0",
      "model_name": "LayoutModel",
      "state": {}
     },
     "e637addffd0d40cf870a2a4cd5eb5731": {
      "model_module": "@jupyter-widgets/controls",
      "model_module_version": "1.5.0",
      "model_name": "IntSliderModel",
      "state": {
       "description": "Level",
       "layout": "IPY_MODEL_00451bef35504f5d96359715ee8bc8a9",
       "max": 30,
       "min": 3,
       "style": "IPY_MODEL_a023f9a3f9b342dabcb31fbdbbe1dbeb",
       "value": 24
      }
     },
     "e734cfc01f8846d1a59c3fb644865031": {
      "model_module": "@jupyter-widgets/base",
      "model_module_version": "1.2.0",
      "model_name": "LayoutModel",
      "state": {}
     },
     "ea7a29e76ba94f42abadd4532bec30b7": {
      "model_module": "@jupyter-widgets/base",
      "model_module_version": "1.2.0",
      "model_name": "LayoutModel",
      "state": {}
     },
     "ecb783ddd4784a2b9f82c703d89297f3": {
      "model_module": "@jupyter-widgets/output",
      "model_module_version": "1.0.0",
      "model_name": "OutputModel",
      "state": {
       "layout": "IPY_MODEL_11c128adb43e4bd7ba57e263508d6404",
       "outputs": [
        {
         "data": {
          "application/vnd.jupyter.widget-view+json": {
           "model_id": "3118fe0fef2645a1a7fd32e521fae740",
           "version_major": 2,
           "version_minor": 0
          },
          "text/plain": "interactive(children=(Dropdown(description='Stat', options=(('HP', 0), ('STR', 1), ('MAG', 2), ('SKL', 3), ('S…"
         },
         "metadata": {},
         "output_type": "display_data"
        }
       ]
      }
     },
     "ecefd66d8b7645c68f51dd097ff7760c": {
      "model_module": "@jupyter-widgets/base",
      "model_module_version": "1.2.0",
      "model_name": "LayoutModel",
      "state": {}
     },
     "ed28477179b047db84daa06a901f7286": {
      "model_module": "@jupyter-widgets/output",
      "model_module_version": "1.0.0",
      "model_name": "OutputModel",
      "state": {
       "layout": "IPY_MODEL_e734cfc01f8846d1a59c3fb644865031",
       "outputs": [
        {
         "data": {
          "image/png": "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\n",
          "text/plain": "<Figure size 600x400 with 1 Axes>"
         },
         "metadata": {
          "needs_background": "light"
         },
         "output_type": "display_data"
        },
        {
         "name": "stdout",
         "output_type": "stream",
         "text": "At Level 20, Expected STR = 22\nWith Standard Deviation = 2\nDew: Average Stats at Level 20:\nAverage HP = 36\nAverage STR = 22\nAverage MAG = 4\nAverage SKL = 19\nAverage SPD = 16\nAverage DEF = 23\nAverage RES = 4\nAverage LCK = 9\n"
        }
       ]
      }
     },
     "ed784bc75b9b412cbe337d6d93fffe78": {
      "model_module": "@jupyter-widgets/controls",
      "model_module_version": "1.5.0",
      "model_name": "VBoxModel",
      "state": {
       "_dom_classes": [
        "widget-interact"
       ],
       "children": [
        "IPY_MODEL_7fba9a22fdd4456d8b6a5558d4259021",
        "IPY_MODEL_9b9ca59839ec4618b2bc7a81de3ce42f"
       ],
       "layout": "IPY_MODEL_fdce169eda664d10a1a172ce699b9cbb"
      }
     },
     "ef392b15577645d38c8473293d7329af": {
      "model_module": "@jupyter-widgets/base",
      "model_module_version": "1.2.0",
      "model_name": "LayoutModel",
      "state": {}
     },
     "f2b5b012b7104113a0bec008718793a5": {
      "model_module": "@jupyter-widgets/base",
      "model_module_version": "1.2.0",
      "model_name": "LayoutModel",
      "state": {}
     },
     "f38673c967e24725b9f4bbcbc71b6e69": {
      "model_module": "@jupyter-widgets/controls",
      "model_module_version": "1.5.0",
      "model_name": "DescriptionStyleModel",
      "state": {
       "description_width": ""
      }
     },
     "f5ad58e0d0dd4e338644934f450fded8": {
      "model_module": "@jupyter-widgets/controls",
      "model_module_version": "1.5.0",
      "model_name": "DescriptionStyleModel",
      "state": {
       "description_width": ""
      }
     },
     "f6fa366fbe0540b8877c9187f9e4c94e": {
      "model_module": "@jupyter-widgets/base",
      "model_module_version": "1.2.0",
      "model_name": "LayoutModel",
      "state": {}
     },
     "f75e7a45454f4b079c4686ca762d5549": {
      "model_module": "@jupyter-widgets/base",
      "model_module_version": "1.2.0",
      "model_name": "LayoutModel",
      "state": {}
     },
     "f883dcfa44c74462a3e61026216e7ee9": {
      "model_module": "@jupyter-widgets/base",
      "model_module_version": "1.2.0",
      "model_name": "LayoutModel",
      "state": {}
     },
     "fc0e988314494d288d6890a983f5a70f": {
      "model_module": "@jupyter-widgets/base",
      "model_module_version": "1.2.0",
      "model_name": "LayoutModel",
      "state": {}
     },
     "fc8c3971950a4153823acfd6cb2c697e": {
      "model_module": "@jupyter-widgets/base",
      "model_module_version": "1.2.0",
      "model_name": "LayoutModel",
      "state": {}
     },
     "fdce169eda664d10a1a172ce699b9cbb": {
      "model_module": "@jupyter-widgets/base",
      "model_module_version": "1.2.0",
      "model_name": "LayoutModel",
      "state": {}
     },
     "fe1131160d1e40779c1273722ae61d01": {
      "model_module": "@jupyter-widgets/output",
      "model_module_version": "1.0.0",
      "model_name": "OutputModel",
      "state": {
       "layout": "IPY_MODEL_bea4ba260a074768a9a74c64a3bcb9dd",
       "outputs": [
        {
         "data": {
          "image/png": "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\n",
          "text/plain": "<Figure size 600x400 with 1 Axes>"
         },
         "metadata": {
          "needs_background": "light"
         },
         "output_type": "display_data"
        },
        {
         "name": "stdout",
         "output_type": "stream",
         "text": "At Level 20, Expected MAG = 23\nWith Standard Deviation = 1\nAyra: Average Stats at Level 20:\nAverage HP = 36\nAverage STR = 2\nAverage MAG = 23\nAverage SKL = 16\nAverage SPD = 14\nAverage DEF = 10\nAverage RES = 16\nAverage LCK = 14\n"
        }
       ]
      }
     },
     "ff375f7adee9413890f0bec8a0d93b00": {
      "model_module": "@jupyter-widgets/base",
      "model_module_version": "1.2.0",
      "model_name": "LayoutModel",
      "state": {}
     },
     "ff431ba6fe5541529509df36e8dc9a4d": {
      "model_module": "@jupyter-widgets/base",
      "model_module_version": "1.2.0",
      "model_name": "LayoutModel",
      "state": {}
     },
     "ffe85bfafafd4ab0b63a125c28fb36d7": {
      "model_module": "@jupyter-widgets/output",
      "model_module_version": "1.0.0",
      "model_name": "OutputModel",
      "state": {
       "layout": "IPY_MODEL_d028cf039b9d48d5bbb921a9d0789da3",
       "outputs": [
        {
         "data": {
          "application/vnd.jupyter.widget-view+json": {
           "model_id": "ac48ef5445d8436d981c23c8dcd068ad",
           "version_major": 2,
           "version_minor": 0
          },
          "text/plain": "interactive(children=(IntSlider(value=2, description='Level', max=30, min=2), Output()), _dom_classes=('widget…"
         },
         "metadata": {},
         "output_type": "display_data"
        }
       ]
      }
     }
    },
    "version_major": 2,
    "version_minor": 0
   }
  }
 },
 "nbformat": 4,
 "nbformat_minor": 4
}
